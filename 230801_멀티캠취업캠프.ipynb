{
  "nbformat": 4,
  "nbformat_minor": 0,
  "metadata": {
    "colab": {
      "provenance": [],
      "authorship_tag": "ABX9TyP8NuCjexRN5ux6ztudJttv",
      "include_colab_link": true
    },
    "kernelspec": {
      "name": "python3",
      "display_name": "Python 3"
    },
    "language_info": {
      "name": "python"
    }
  },
  "cells": [
    {
      "cell_type": "markdown",
      "metadata": {
        "id": "view-in-github",
        "colab_type": "text"
      },
      "source": [
        "<a href=\"https://colab.research.google.com/github/hyerimson/July_Coding/blob/main/230801_%EB%A9%80%ED%8B%B0%EC%BA%A0%EC%B7%A8%EC%97%85%EC%BA%A0%ED%94%84.ipynb\" target=\"_parent\"><img src=\"https://colab.research.google.com/assets/colab-badge.svg\" alt=\"Open In Colab\"/></a>"
      ]
    },
    {
      "cell_type": "code",
      "execution_count": 14,
      "metadata": {
        "id": "U5sVFNEVaEJ7"
      },
      "outputs": [],
      "source": [
        "class A:\n",
        "    def __init__(self,x):\n",
        "        self.x = x\n",
        "    def print_x(self):\n",
        "        print(self.x)"
      ]
    },
    {
      "cell_type": "code",
      "source": [
        "class B(A):\n",
        "    def setdata(self,y):\n",
        "        self.y = y\n",
        "    def print_y(self):\n",
        "        print(self.y)"
      ],
      "metadata": {
        "id": "WPup6_J3aM-u"
      },
      "execution_count": 15,
      "outputs": []
    },
    {
      "cell_type": "code",
      "source": [
        "b_io = B()"
      ],
      "metadata": {
        "id": "GzeLbpFOaRhi"
      },
      "execution_count": null,
      "outputs": []
    },
    {
      "cell_type": "code",
      "source": [
        "b_io=B(10)"
      ],
      "metadata": {
        "id": "RLjZGoNFavGf"
      },
      "execution_count": 6,
      "outputs": []
    },
    {
      "cell_type": "code",
      "source": [
        "b_io.print_x()"
      ],
      "metadata": {
        "colab": {
          "base_uri": "https://localhost:8080/"
        },
        "id": "ujsQOA4CaT9L",
        "outputId": "7dc1b480-8042-4a80-d731-e931b7f7ac74"
      },
      "execution_count": 7,
      "outputs": [
        {
          "output_type": "stream",
          "name": "stdout",
          "text": [
            "10\n"
          ]
        }
      ]
    },
    {
      "cell_type": "code",
      "source": [
        "dir(b_io)"
      ],
      "metadata": {
        "colab": {
          "base_uri": "https://localhost:8080/"
        },
        "id": "5st6wsYzarTz",
        "outputId": "54df0c50-4cca-4941-bddd-f1af10437bd3"
      },
      "execution_count": 9,
      "outputs": [
        {
          "output_type": "execute_result",
          "data": {
            "text/plain": [
              "['__class__',\n",
              " '__delattr__',\n",
              " '__dict__',\n",
              " '__dir__',\n",
              " '__doc__',\n",
              " '__eq__',\n",
              " '__format__',\n",
              " '__ge__',\n",
              " '__getattribute__',\n",
              " '__gt__',\n",
              " '__hash__',\n",
              " '__init__',\n",
              " '__init_subclass__',\n",
              " '__le__',\n",
              " '__lt__',\n",
              " '__module__',\n",
              " '__ne__',\n",
              " '__new__',\n",
              " '__reduce__',\n",
              " '__reduce_ex__',\n",
              " '__repr__',\n",
              " '__setattr__',\n",
              " '__sizeof__',\n",
              " '__str__',\n",
              " '__subclasshook__',\n",
              " '__weakref__',\n",
              " 'print_x',\n",
              " 'setdata',\n",
              " 'x']"
            ]
          },
          "metadata": {},
          "execution_count": 9
        }
      ]
    },
    {
      "cell_type": "code",
      "source": [
        "[x for x in dir(b_io) if not x.startswith('__')]  #x가 있으니까 프린트했을 때 위에서 10 나옴"
      ],
      "metadata": {
        "colab": {
          "base_uri": "https://localhost:8080/"
        },
        "id": "Q6pVpozWa_Uk",
        "outputId": "45002c71-9117-4579-faa7-08511e5ef346"
      },
      "execution_count": 10,
      "outputs": [
        {
          "output_type": "execute_result",
          "data": {
            "text/plain": [
              "['print_x', 'setdata', 'x']"
            ]
          },
          "metadata": {},
          "execution_count": 10
        }
      ]
    },
    {
      "cell_type": "code",
      "source": [
        "b_io.setdata(100)"
      ],
      "metadata": {
        "id": "2L27LkKBbLWR"
      },
      "execution_count": 11,
      "outputs": []
    },
    {
      "cell_type": "code",
      "source": [
        "[x for x in dir(b_io) if not x.startswith('__')]"
      ],
      "metadata": {
        "colab": {
          "base_uri": "https://localhost:8080/"
        },
        "id": "_9jLFMaLbTDa",
        "outputId": "72f13bdd-06dc-4b40-f7da-960f3f8cf712"
      },
      "execution_count": 12,
      "outputs": [
        {
          "output_type": "execute_result",
          "data": {
            "text/plain": [
              "['print_x', 'setdata', 'x', 'y']"
            ]
          },
          "metadata": {},
          "execution_count": 12
        }
      ]
    },
    {
      "cell_type": "code",
      "source": [
        "b_io2 = B(10)"
      ],
      "metadata": {
        "id": "iwKjb765bWXu"
      },
      "execution_count": 16,
      "outputs": []
    },
    {
      "cell_type": "code",
      "source": [
        "[x for x in dir(b_io2) if not x.startswith('__')]"
      ],
      "metadata": {
        "colab": {
          "base_uri": "https://localhost:8080/"
        },
        "id": "Wv5TmW_gbnAf",
        "outputId": "d4648c9b-2886-4348-c853-e73ea4197d0a"
      },
      "execution_count": 20,
      "outputs": [
        {
          "output_type": "execute_result",
          "data": {
            "text/plain": [
              "['print_x', 'print_y', 'setdata', 'x']"
            ]
          },
          "metadata": {},
          "execution_count": 20
        }
      ]
    },
    {
      "cell_type": "code",
      "source": [
        "b_io2.print_x()"
      ],
      "metadata": {
        "colab": {
          "base_uri": "https://localhost:8080/"
        },
        "id": "5TGSCjsXbpdu",
        "outputId": "65bebce2-d6d8-4933-bb06-186b0afafee9"
      },
      "execution_count": 23,
      "outputs": [
        {
          "output_type": "stream",
          "name": "stdout",
          "text": [
            "10\n"
          ]
        }
      ]
    },
    {
      "cell_type": "code",
      "source": [
        "b_io2.print_y()"
      ],
      "metadata": {
        "colab": {
          "base_uri": "https://localhost:8080/",
          "height": 263
        },
        "id": "WOUxxe0Ib6xA",
        "outputId": "877374ba-00dc-4706-df95-1eaf7ea4dd9f"
      },
      "execution_count": 24,
      "outputs": [
        {
          "output_type": "error",
          "ename": "AttributeError",
          "evalue": "ignored",
          "traceback": [
            "\u001b[0;31m---------------------------------------------------------------------------\u001b[0m",
            "\u001b[0;31mAttributeError\u001b[0m                            Traceback (most recent call last)",
            "\u001b[0;32m<ipython-input-24-d785262a8f51>\u001b[0m in \u001b[0;36m<cell line: 1>\u001b[0;34m()\u001b[0m\n\u001b[0;32m----> 1\u001b[0;31m \u001b[0mb_io2\u001b[0m\u001b[0;34m.\u001b[0m\u001b[0mprint_y\u001b[0m\u001b[0;34m(\u001b[0m\u001b[0;34m)\u001b[0m\u001b[0;34m\u001b[0m\u001b[0;34m\u001b[0m\u001b[0m\n\u001b[0m",
            "\u001b[0;32m<ipython-input-15-c53773ed0264>\u001b[0m in \u001b[0;36mprint_y\u001b[0;34m(self)\u001b[0m\n\u001b[1;32m      3\u001b[0m         \u001b[0mself\u001b[0m\u001b[0;34m.\u001b[0m\u001b[0my\u001b[0m \u001b[0;34m=\u001b[0m \u001b[0my\u001b[0m\u001b[0;34m\u001b[0m\u001b[0;34m\u001b[0m\u001b[0m\n\u001b[1;32m      4\u001b[0m     \u001b[0;32mdef\u001b[0m \u001b[0mprint_y\u001b[0m\u001b[0;34m(\u001b[0m\u001b[0mself\u001b[0m\u001b[0;34m)\u001b[0m\u001b[0;34m:\u001b[0m\u001b[0;34m\u001b[0m\u001b[0;34m\u001b[0m\u001b[0m\n\u001b[0;32m----> 5\u001b[0;31m         \u001b[0mprint\u001b[0m\u001b[0;34m(\u001b[0m\u001b[0mself\u001b[0m\u001b[0;34m.\u001b[0m\u001b[0my\u001b[0m\u001b[0;34m)\u001b[0m\u001b[0;34m\u001b[0m\u001b[0;34m\u001b[0m\u001b[0m\n\u001b[0m",
            "\u001b[0;31mAttributeError\u001b[0m: 'B' object has no attribute 'y'"
          ]
        }
      ]
    },
    {
      "cell_type": "code",
      "source": [
        "b_io2.setdata(77)"
      ],
      "metadata": {
        "id": "IA5KBSqucBSl"
      },
      "execution_count": 25,
      "outputs": []
    },
    {
      "cell_type": "code",
      "source": [
        "b_io2.print_y()"
      ],
      "metadata": {
        "colab": {
          "base_uri": "https://localhost:8080/"
        },
        "id": "jmo76ntacNpM",
        "outputId": "53cab0b7-a0bc-46bc-b9a5-9061d65b68d7"
      },
      "execution_count": 26,
      "outputs": [
        {
          "output_type": "stream",
          "name": "stdout",
          "text": [
            "77\n"
          ]
        }
      ]
    },
    {
      "cell_type": "code",
      "source": [
        "[x for x in dir(b_io2) if not x.startswith('__')]"
      ],
      "metadata": {
        "colab": {
          "base_uri": "https://localhost:8080/"
        },
        "id": "HcHQBWUEcPPt",
        "outputId": "59653a68-ec66-4c8e-c857-014317490b23"
      },
      "execution_count": 27,
      "outputs": [
        {
          "output_type": "execute_result",
          "data": {
            "text/plain": [
              "['print_x', 'print_y', 'setdata', 'x', 'y']"
            ]
          },
          "metadata": {},
          "execution_count": 27
        }
      ]
    },
    {
      "cell_type": "code",
      "source": [
        "class Person:\n",
        "    def __init__(self, name, phone=None):\n",
        "        self.name = name\n",
        "        self.phone = phone\n",
        "    def __repr__(self):\n",
        "        return f'<Person {self.name} {self.phone} >'"
      ],
      "metadata": {
        "id": "B6u-vQ1UcQ-M"
      },
      "execution_count": 28,
      "outputs": []
    },
    {
      "cell_type": "code",
      "source": [
        "class Employee(Person):   #Person에 따라 init을 재정의해준다.\n",
        "    def __init__(self):\n",
        "        pass              #pass 따르니 아무것도 안한 것\n",
        "    def setdata(self, position, salary):\n",
        "        self.position = position\n",
        "        self.salary = salary\n",
        "    def print_info(self):\n",
        "        print(self.name, self.phone)"
      ],
      "metadata": {
        "id": "GPEJwCLLchFP"
      },
      "execution_count": 38,
      "outputs": []
    },
    {
      "cell_type": "code",
      "source": [
        "e1 = Employee('홍길동',1984)"
      ],
      "metadata": {
        "id": "gvozWaqjcrLm"
      },
      "execution_count": 33,
      "outputs": []
    },
    {
      "cell_type": "code",
      "source": [
        "e1.print_info()"
      ],
      "metadata": {
        "colab": {
          "base_uri": "https://localhost:8080/"
        },
        "id": "MMEcVkNMcxdy",
        "outputId": "848cfa42-a096-4b90-bf06-f8b237dcde3a"
      },
      "execution_count": 34,
      "outputs": [
        {
          "output_type": "stream",
          "name": "stdout",
          "text": [
            "홍길동 1984\n"
          ]
        }
      ]
    },
    {
      "cell_type": "code",
      "source": [
        "[x for x in dir(e1) if not x.startswith('__')]"
      ],
      "metadata": {
        "colab": {
          "base_uri": "https://localhost:8080/"
        },
        "id": "d26hxSO8dGxg",
        "outputId": "7b6279d7-6224-42c3-a270-bae650d17ffe"
      },
      "execution_count": 35,
      "outputs": [
        {
          "output_type": "execute_result",
          "data": {
            "text/plain": [
              "['name', 'phone', 'print_info', 'setdata']"
            ]
          },
          "metadata": {},
          "execution_count": 35
        }
      ]
    },
    {
      "cell_type": "code",
      "source": [
        "e1.setdata('대리',200)"
      ],
      "metadata": {
        "id": "fTHLJoxAdLkB"
      },
      "execution_count": 36,
      "outputs": []
    },
    {
      "cell_type": "code",
      "source": [
        "[x for x in dir(e1) if not x.startswith('__')]"
      ],
      "metadata": {
        "colab": {
          "base_uri": "https://localhost:8080/"
        },
        "id": "jStv37modR2q",
        "outputId": "60f57faf-0198-4067-c27f-d7f9ca689ab2"
      },
      "execution_count": 37,
      "outputs": [
        {
          "output_type": "execute_result",
          "data": {
            "text/plain": [
              "['name', 'phone', 'position', 'print_info', 'salary', 'setdata']"
            ]
          },
          "metadata": {},
          "execution_count": 37
        }
      ]
    },
    {
      "cell_type": "code",
      "source": [
        "e2 = Employee()"
      ],
      "metadata": {
        "id": "zzcRDPECdUE_"
      },
      "execution_count": 39,
      "outputs": []
    },
    {
      "cell_type": "code",
      "source": [
        "[x for x in dir(e2) if not x.startswith('__')]\n",
        "\n",
        "#name, phone이 빠진 이유? 설정을 안해줘서\n",
        "#엄격히 말하면 3개의 namespace가 다 다르다"
      ],
      "metadata": {
        "colab": {
          "base_uri": "https://localhost:8080/"
        },
        "id": "H-12S1BAd6EM",
        "outputId": "8213ab89-8400-4640-e3fc-9302343621ff"
      },
      "execution_count": 40,
      "outputs": [
        {
          "output_type": "execute_result",
          "data": {
            "text/plain": [
              "['print_info', 'setdata']"
            ]
          },
          "metadata": {},
          "execution_count": 40
        }
      ]
    },
    {
      "cell_type": "markdown",
      "source": [
        "---\n",
        "리스트와 딕트를 상속받는 예"
      ],
      "metadata": {
        "id": "QauVTaX-etW7"
      }
    },
    {
      "cell_type": "code",
      "source": [
        "class Stack(list):\n",
        "    push = list.append\n",
        "\n",
        "    #push는 instance variable은 아니다\n",
        "    #메서드에는 셀프, variable에는 셀프.~ 가 들어가있어야"
      ],
      "metadata": {
        "id": "4ofu28ojd-0i"
      },
      "execution_count": 42,
      "outputs": []
    },
    {
      "cell_type": "code",
      "source": [
        "s = Stack()"
      ],
      "metadata": {
        "id": "Mooegksoe1mV"
      },
      "execution_count": 43,
      "outputs": []
    },
    {
      "cell_type": "code",
      "source": [
        "s.push(4) #push는 클래스의 variable"
      ],
      "metadata": {
        "id": "WvthSLDPfKHh"
      },
      "execution_count": 49,
      "outputs": []
    },
    {
      "cell_type": "code",
      "source": [
        "s"
      ],
      "metadata": {
        "colab": {
          "base_uri": "https://localhost:8080/"
        },
        "id": "cN8fJrqhfK6e",
        "outputId": "21383d11-ac30-4a08-d569-b9c46cdc69ed"
      },
      "execution_count": 50,
      "outputs": [
        {
          "output_type": "execute_result",
          "data": {
            "text/plain": [
              "[4, 4, 4]"
            ]
          },
          "metadata": {},
          "execution_count": 50
        }
      ]
    },
    {
      "cell_type": "code",
      "source": [
        "s.push(5)"
      ],
      "metadata": {
        "id": "hLlXxyQufVM5"
      },
      "execution_count": 51,
      "outputs": []
    },
    {
      "cell_type": "code",
      "source": [
        "s"
      ],
      "metadata": {
        "colab": {
          "base_uri": "https://localhost:8080/"
        },
        "id": "k-qXlNNUfcHg",
        "outputId": "49ca9be7-0961-4dc7-90e1-0ca09a2b31bd"
      },
      "execution_count": 52,
      "outputs": [
        {
          "output_type": "execute_result",
          "data": {
            "text/plain": [
              "[4, 4, 4, 5]"
            ]
          },
          "metadata": {},
          "execution_count": 52
        }
      ]
    },
    {
      "cell_type": "code",
      "source": [
        "s = Stack([1,2,3])"
      ],
      "metadata": {
        "id": "VWJykKmVfdCI"
      },
      "execution_count": 68,
      "outputs": []
    },
    {
      "cell_type": "code",
      "source": [
        "s"
      ],
      "metadata": {
        "colab": {
          "base_uri": "https://localhost:8080/"
        },
        "id": "EpqiLDi7fli_",
        "outputId": "6d208ecd-6c78-4d77-b048-c5e893743ec6"
      },
      "execution_count": 69,
      "outputs": [
        {
          "output_type": "execute_result",
          "data": {
            "text/plain": [
              "[1, 2, 3]"
            ]
          },
          "metadata": {},
          "execution_count": 69
        }
      ]
    },
    {
      "cell_type": "code",
      "source": [
        "s.push(18)"
      ],
      "metadata": {
        "id": "oZMKZTNFfmG_"
      },
      "execution_count": 70,
      "outputs": []
    },
    {
      "cell_type": "code",
      "source": [
        "s"
      ],
      "metadata": {
        "colab": {
          "base_uri": "https://localhost:8080/"
        },
        "id": "oIBdbtcTfoIE",
        "outputId": "c75260e9-fe4f-4120-c8be-596fc1e8be14"
      },
      "execution_count": 71,
      "outputs": [
        {
          "output_type": "execute_result",
          "data": {
            "text/plain": [
              "[1, 2, 3, 18]"
            ]
          },
          "metadata": {},
          "execution_count": 71
        }
      ]
    },
    {
      "cell_type": "code",
      "source": [
        "s.pop()"
      ],
      "metadata": {
        "colab": {
          "base_uri": "https://localhost:8080/"
        },
        "id": "DiKuoRQWghBV",
        "outputId": "109d5928-9f8c-4389-f4c3-99a9c0fcad37"
      },
      "execution_count": 72,
      "outputs": [
        {
          "output_type": "execute_result",
          "data": {
            "text/plain": [
              "18"
            ]
          },
          "metadata": {},
          "execution_count": 72
        }
      ]
    },
    {
      "cell_type": "code",
      "source": [
        "s"
      ],
      "metadata": {
        "colab": {
          "base_uri": "https://localhost:8080/"
        },
        "id": "YS26SgJPgjWw",
        "outputId": "ce8f3858-520c-4456-f669-b77d95b5374e"
      },
      "execution_count": 73,
      "outputs": [
        {
          "output_type": "execute_result",
          "data": {
            "text/plain": [
              "[1, 2, 3]"
            ]
          },
          "metadata": {},
          "execution_count": 73
        }
      ]
    },
    {
      "cell_type": "code",
      "source": [
        "class Queue(list):\n",
        "    enqueue = list.append\n",
        "    def dequeue(self):\n",
        "        return self.pop(0)"
      ],
      "metadata": {
        "id": "1sdVpC-7fon7"
      },
      "execution_count": 57,
      "outputs": []
    },
    {
      "cell_type": "code",
      "source": [
        "q = Queue() #아무런 argument을 안줘도 된다"
      ],
      "metadata": {
        "id": "4AOmFk9Dfx_A"
      },
      "execution_count": 58,
      "outputs": []
    },
    {
      "cell_type": "code",
      "source": [
        "q.enqueue(1)"
      ],
      "metadata": {
        "id": "k8iAw8jNfzeO"
      },
      "execution_count": 60,
      "outputs": []
    },
    {
      "cell_type": "code",
      "source": [
        "q.enqueue(2)"
      ],
      "metadata": {
        "id": "fVP05vqaf1Nr"
      },
      "execution_count": 62,
      "outputs": []
    },
    {
      "cell_type": "code",
      "source": [
        "q"
      ],
      "metadata": {
        "colab": {
          "base_uri": "https://localhost:8080/"
        },
        "id": "mYVP20STf4jL",
        "outputId": "78606f19-422d-452a-f776-71c321bb148b"
      },
      "execution_count": 63,
      "outputs": [
        {
          "output_type": "execute_result",
          "data": {
            "text/plain": [
              "[1, 2]"
            ]
          },
          "metadata": {},
          "execution_count": 63
        }
      ]
    },
    {
      "cell_type": "code",
      "source": [
        "q.dequeue()"
      ],
      "metadata": {
        "colab": {
          "base_uri": "https://localhost:8080/"
        },
        "id": "QQrLKz8Vf96Z",
        "outputId": "598775f6-3057-4a09-e017-6c628401a4ba"
      },
      "execution_count": 64,
      "outputs": [
        {
          "output_type": "execute_result",
          "data": {
            "text/plain": [
              "1"
            ]
          },
          "metadata": {},
          "execution_count": 64
        }
      ]
    },
    {
      "cell_type": "code",
      "source": [
        "q"
      ],
      "metadata": {
        "colab": {
          "base_uri": "https://localhost:8080/"
        },
        "id": "UR4dYTQdgGQp",
        "outputId": "1bbbbce1-1d1f-4898-dd4e-357e50722bae"
      },
      "execution_count": 65,
      "outputs": [
        {
          "output_type": "execute_result",
          "data": {
            "text/plain": [
              "[2]"
            ]
          },
          "metadata": {},
          "execution_count": 65
        }
      ]
    },
    {
      "cell_type": "code",
      "source": [
        "[1,2,3,43].pop(0)"
      ],
      "metadata": {
        "colab": {
          "base_uri": "https://localhost:8080/"
        },
        "id": "3hq94d7CgHaa",
        "outputId": "47ff3bd8-6857-41dc-89b1-b1a9b99c477f"
      },
      "execution_count": 67,
      "outputs": [
        {
          "output_type": "execute_result",
          "data": {
            "text/plain": [
              "1"
            ]
          },
          "metadata": {},
          "execution_count": 67
        }
      ]
    },
    {
      "cell_type": "code",
      "source": [
        "q = Queue([1,2,3,4])  #argument을 줘도 된다\n",
        "\n",
        "#이렇게 argument을 주든 안주든 다 가능한 경우에는\n",
        "#init가 어떻게 되어있어?\n",
        "#파라미터 variables들이 전부 다 keyword variables이면 된다."
      ],
      "metadata": {
        "id": "Uy0p6JTSgP_d"
      },
      "execution_count": 76,
      "outputs": []
    },
    {
      "cell_type": "code",
      "source": [
        "q"
      ],
      "metadata": {
        "colab": {
          "base_uri": "https://localhost:8080/"
        },
        "id": "841x9WjlgtUS",
        "outputId": "31bdc5d5-8648-41d0-b1dd-a0364955993a"
      },
      "execution_count": 77,
      "outputs": [
        {
          "output_type": "execute_result",
          "data": {
            "text/plain": [
              "[1, 2, 3, 4]"
            ]
          },
          "metadata": {},
          "execution_count": 77
        }
      ]
    },
    {
      "cell_type": "code",
      "source": [
        "class MyDict(dict):\n",
        "    def keys(self):\n",
        "        L = super().keys()  #재정의?\n",
        "        return sorted(L)"
      ],
      "metadata": {
        "id": "LGsyVG6uguC8"
      },
      "execution_count": 80,
      "outputs": []
    },
    {
      "cell_type": "code",
      "source": [
        "d = MyDict()"
      ],
      "metadata": {
        "id": "yZ4cUEhIhVKg"
      },
      "execution_count": 81,
      "outputs": []
    },
    {
      "cell_type": "code",
      "source": [
        "d.keys()"
      ],
      "metadata": {
        "colab": {
          "base_uri": "https://localhost:8080/"
        },
        "id": "gLytxc05hh4C",
        "outputId": "d2fa53ad-3299-4234-bd01-fe20fb13f859"
      },
      "execution_count": 82,
      "outputs": [
        {
          "output_type": "execute_result",
          "data": {
            "text/plain": [
              "[]"
            ]
          },
          "metadata": {},
          "execution_count": 82
        }
      ]
    },
    {
      "cell_type": "code",
      "source": [
        "d = MyDict({10:100, 21:200, 3:300})"
      ],
      "metadata": {
        "id": "JC92LM4uhkvo"
      },
      "execution_count": 88,
      "outputs": []
    },
    {
      "cell_type": "code",
      "source": [
        "d.keys()"
      ],
      "metadata": {
        "colab": {
          "base_uri": "https://localhost:8080/"
        },
        "id": "errW4izKhofH",
        "outputId": "17d96f55-875d-4cef-d0e2-d143c6b93403"
      },
      "execution_count": 89,
      "outputs": [
        {
          "output_type": "execute_result",
          "data": {
            "text/plain": [
              "[3, 10, 21]"
            ]
          },
          "metadata": {},
          "execution_count": 89
        }
      ]
    },
    {
      "cell_type": "markdown",
      "source": [
        "## 다형성\n",
        "\n",
        "상속관계에서 다른 클래스의 인스턴스 객체들이 같은 멤버 함수의 호출에 대해 각각 다르게 반응하도록 하는 기능"
      ],
      "metadata": {
        "id": "eB5I9NOniKQ5"
      }
    },
    {
      "cell_type": "code",
      "source": [
        "class Animal:\n",
        "    def cry(self):\n",
        "        print('...')\n",
        "\n",
        "class Dog(Animal):\n",
        "    def cry(self):\n",
        "        print('멍멍')\n",
        "\n",
        "class Duck(Animal):\n",
        "    def cry(self):\n",
        "        print('꽥꽥')\n",
        "\n",
        "class Fish(Animal):\n",
        "    pass"
      ],
      "metadata": {
        "id": "z06Qy-w0htbM"
      },
      "execution_count": 90,
      "outputs": []
    },
    {
      "cell_type": "code",
      "source": [
        "for each in (Dog(), Duck(), Fish()):\n",
        "    each.cry()"
      ],
      "metadata": {
        "colab": {
          "base_uri": "https://localhost:8080/"
        },
        "id": "vsZxPH8Si1ry",
        "outputId": "8ef82ca6-5f7b-4bf1-f1e0-19a475253c92"
      },
      "execution_count": 91,
      "outputs": [
        {
          "output_type": "stream",
          "name": "stdout",
          "text": [
            "멍멍\n",
            "꽥꽥\n",
            "...\n"
          ]
        }
      ]
    },
    {
      "cell_type": "markdown",
      "source": [
        "---\n",
        "###문제\n",
        "- 클래스 작성, 클래스 이름 = OrderdList\n",
        "- 리스트를 상속\n",
        "- extend와 append로 데이터를 받도록 한다.\n",
        "- 이때 (데이터를 추가할 때마다) sort로 정렬하는 클래스"
      ],
      "metadata": {
        "id": "bpdMUijxkA9k"
      }
    },
    {
      "cell_type": "code",
      "source": [
        "class OrderedList(list):   #list 상속받음\n",
        "    def __init__(self,item):\n",
        "        super().__init__(item)\n",
        "        self.sort()\n",
        "    def append(self,item):\n",
        "        super().append(item)\n",
        "        self.sort()\n",
        "    def extend(self,item):\n",
        "        super().extend(item)\n",
        "        self.sort()"
      ],
      "metadata": {
        "id": "SgZG-UR_i8EB"
      },
      "execution_count": 114,
      "outputs": []
    },
    {
      "cell_type": "code",
      "source": [
        "L = OrderedList([3,10,2])"
      ],
      "metadata": {
        "id": "lX5TsC4kkaLS"
      },
      "execution_count": 115,
      "outputs": []
    },
    {
      "cell_type": "code",
      "source": [
        "print(L)"
      ],
      "metadata": {
        "colab": {
          "base_uri": "https://localhost:8080/"
        },
        "id": "uAKIxULNvL5V",
        "outputId": "632d9dc7-d3a5-4bfd-e17a-e8c6c5acb04e"
      },
      "execution_count": 116,
      "outputs": [
        {
          "output_type": "stream",
          "name": "stdout",
          "text": [
            "[2, 3, 10]\n"
          ]
        }
      ]
    },
    {
      "cell_type": "code",
      "source": [
        "L.append(5)"
      ],
      "metadata": {
        "id": "-89MOlJuvMjH"
      },
      "execution_count": 117,
      "outputs": []
    },
    {
      "cell_type": "code",
      "source": [
        "print(L)"
      ],
      "metadata": {
        "colab": {
          "base_uri": "https://localhost:8080/"
        },
        "id": "CUwVkCrxvOSM",
        "outputId": "2227d802-384a-49ea-e3a0-9031e1e7e033"
      },
      "execution_count": 118,
      "outputs": [
        {
          "output_type": "stream",
          "name": "stdout",
          "text": [
            "[2, 3, 5, 10]\n"
          ]
        }
      ]
    },
    {
      "cell_type": "code",
      "source": [
        "L.extend(  (4,8,20)  )  #extend는 안에 리스트, 튜플, 시쿼스 등 시퀀셜데이터이면 된다"
      ],
      "metadata": {
        "id": "JVialGBpvPF6"
      },
      "execution_count": 121,
      "outputs": []
    },
    {
      "cell_type": "code",
      "source": [
        "print(L)"
      ],
      "metadata": {
        "colab": {
          "base_uri": "https://localhost:8080/"
        },
        "id": "EsgGMggivS6M",
        "outputId": "519a71e0-3f56-4d5e-f8d5-6c72b19cf6f8"
      },
      "execution_count": 122,
      "outputs": [
        {
          "output_type": "stream",
          "name": "stdout",
          "text": [
            "[2, 3, 4, 4, 5, 8, 8, 10, 20, 20]\n"
          ]
        }
      ]
    },
    {
      "cell_type": "markdown",
      "source": [
        "---\n",
        "Q. 다음과 같이 동작하는 클래스 Counter를 만들어보세요.\n",
        "\n",
        "1. 이 클래스의 생성자는 정수의 초깃값을 받는다. 만일 인수가 주어지지 않으면 초깃값 0을 가진다. (=init가 있다는 의미)\n",
        "2. 인스턴스 변수 step은 카운터 값을 증가시키는 증분이다. 초깃값은 1이다. (keyword parameter)\n",
        "3. 메서드 incr을 호출하면 현재의 카운터에서 step만큼 증가한다.\n",
        "4. 카운터 값을 문자열로 변환하는 __str__()와 __repr__() 메서드를 추가해보자"
      ],
      "metadata": {
        "id": "Fz3QA0QIxMmX"
      }
    },
    {
      "cell_type": "code",
      "source": [
        "class Counter:\n",
        "    def __init__(self,initial=0,step=1):   #정수의 초깃값 가지기 initial=0\n",
        "        self.initial = initial\n",
        "        self.step = step\n",
        "    def incr(self):\n",
        "        self.initial += self.step\n",
        "    def __str__(self):\n",
        "        return str(self.initial)\n",
        "    def __repr__(self):\n",
        "        return(f'{self.initial}')\n",
        "    def __call__(self):\n",
        "        self.initial += self.step\n",
        "        return self.initial"
      ],
      "metadata": {
        "id": "GZCmEZhZx7Az"
      },
      "execution_count": 159,
      "outputs": []
    },
    {
      "cell_type": "code",
      "source": [
        "c = Counter()\n",
        "c.incr()\n",
        "c"
      ],
      "metadata": {
        "colab": {
          "base_uri": "https://localhost:8080/"
        },
        "id": "DugcjymJvTjM",
        "outputId": "b4564f1e-f332-4668-d6c3-4a6992cf891a"
      },
      "execution_count": 150,
      "outputs": [
        {
          "output_type": "execute_result",
          "data": {
            "text/plain": [
              "1"
            ]
          },
          "metadata": {},
          "execution_count": 150
        }
      ]
    },
    {
      "cell_type": "code",
      "source": [
        "c.incr()\n",
        "c"
      ],
      "metadata": {
        "colab": {
          "base_uri": "https://localhost:8080/"
        },
        "id": "vSrcu8pxx3AE",
        "outputId": "52996f9a-6e00-4805-bed3-cd1ac3311e75"
      },
      "execution_count": 128,
      "outputs": [
        {
          "output_type": "execute_result",
          "data": {
            "text/plain": [
              "3"
            ]
          },
          "metadata": {},
          "execution_count": 128
        }
      ]
    },
    {
      "cell_type": "markdown",
      "source": [
        "__call__ 메서드 추가해서\n",
        "인스턴스 오브젝트를 호출 가능하게 해주세요"
      ],
      "metadata": {
        "id": "SuH8H-OU401I"
      }
    },
    {
      "cell_type": "code",
      "source": [
        "c = Counter()\n",
        "c()  #출력 : 1\n",
        "c()  #출력 : 2"
      ],
      "metadata": {
        "colab": {
          "base_uri": "https://localhost:8080/"
        },
        "id": "-zA_rmc-4vFN",
        "outputId": "bcbd05d0-f980-43ed-fd05-b985398cc255"
      },
      "execution_count": 160,
      "outputs": [
        {
          "output_type": "execute_result",
          "data": {
            "text/plain": [
              "2"
            ]
          },
          "metadata": {},
          "execution_count": 160
        }
      ]
    },
    {
      "cell_type": "code",
      "source": [
        "c()"
      ],
      "metadata": {
        "colab": {
          "base_uri": "https://localhost:8080/"
        },
        "id": "YEzHBJ8v5f6h",
        "outputId": "07686e3f-39bd-4551-da59-d04ba0d3e25c"
      },
      "execution_count": 161,
      "outputs": [
        {
          "output_type": "execute_result",
          "data": {
            "text/plain": [
              "3"
            ]
          },
          "metadata": {},
          "execution_count": 161
        }
      ]
    },
    {
      "cell_type": "code",
      "source": [
        "c()"
      ],
      "metadata": {
        "colab": {
          "base_uri": "https://localhost:8080/"
        },
        "id": "z8Kotnwp5oy8",
        "outputId": "bc751a6e-83ff-4591-d37a-96aa05f03494"
      },
      "execution_count": 162,
      "outputs": [
        {
          "output_type": "execute_result",
          "data": {
            "text/plain": [
              "4"
            ]
          },
          "metadata": {},
          "execution_count": 162
        }
      ]
    },
    {
      "cell_type": "code",
      "source": [
        "class Counter:\n",
        "    def __init__(self, value=0, step=1):\n",
        "        self.value = value\n",
        "        self.step = step\n",
        "    def incr(self):\n",
        "        self.value += self.step\n",
        "\n",
        "    def __str__(self):\n",
        "        return str(self.value)\n",
        "\n",
        "    def __repr__(self):\n",
        "        return f'{self.value}'\n",
        "\n",
        "    def __call__(self):\n",
        "        self.incr()\n",
        "        return self.value\n",
        "\n",
        "# __ 있는 데에서는 return 꼭 쓰고\n",
        "# 위에 __call__에서는 return 안써도 된다\n",
        "# repr이 있기 때문에"
      ],
      "metadata": {
        "id": "5BS5Dj4x6X3k"
      },
      "execution_count": 171,
      "outputs": []
    },
    {
      "cell_type": "code",
      "source": [
        "c = Counter()\n",
        "c()"
      ],
      "metadata": {
        "colab": {
          "base_uri": "https://localhost:8080/"
        },
        "id": "-SZFRhp47pqW",
        "outputId": "2712c5eb-0cdf-4579-9266-3c377715fda2"
      },
      "execution_count": 172,
      "outputs": [
        {
          "output_type": "execute_result",
          "data": {
            "text/plain": [
              "1"
            ]
          },
          "metadata": {},
          "execution_count": 172
        }
      ]
    },
    {
      "cell_type": "code",
      "source": [
        "c()"
      ],
      "metadata": {
        "colab": {
          "base_uri": "https://localhost:8080/"
        },
        "id": "4TXWrCom7sWs",
        "outputId": "30a3b5dc-d3bd-42b5-e551-c3d2354cf7b2"
      },
      "execution_count": 173,
      "outputs": [
        {
          "output_type": "execute_result",
          "data": {
            "text/plain": [
              "2"
            ]
          },
          "metadata": {},
          "execution_count": 173
        }
      ]
    },
    {
      "cell_type": "code",
      "source": [
        "class Book:\n",
        "    def set_info(self,title,author):\n",
        "        self.title = title\n",
        "        self.author = author\n",
        "\n",
        "    def print_info(self):\n",
        "        print(f\"책 제목 : {self.title}\")\n",
        "        print(f\"책 저자 : {self.author}\")"
      ],
      "metadata": {
        "id": "8odh3q567yFP"
      },
      "execution_count": 174,
      "outputs": []
    },
    {
      "cell_type": "code",
      "source": [
        "book1 = Book()\n",
        "book1.set_info('하얼빈','김훈')\n",
        "book1.print_info()\n",
        "\n",
        "book2 = Book()\n",
        "book2.set_info('채식주의자','한강')"
      ],
      "metadata": {
        "colab": {
          "base_uri": "https://localhost:8080/"
        },
        "id": "zrqlFcWq9Dpi",
        "outputId": "26476752-0d5a-4b33-d651-595f200b2052"
      },
      "execution_count": 176,
      "outputs": [
        {
          "output_type": "stream",
          "name": "stdout",
          "text": [
            "책 제목 : 하얼빈\n",
            "책 저자 : 김훈\n"
          ]
        }
      ]
    },
    {
      "cell_type": "code",
      "source": [
        "data_list = [('하얼빈','김훈'),('채식주의자','한강',('어린왕자','생텍쥐페리'))]\n",
        "\n",
        "for each in data_list:\n",
        "    book1 = Book()\n",
        "    book1.set_info(each[0], each[1])\n",
        "    book1.print_info()"
      ],
      "metadata": {
        "colab": {
          "base_uri": "https://localhost:8080/"
        },
        "id": "4X6I0NiLQfzd",
        "outputId": "afb540a6-1974-47bb-c1a5-fa4647d56350"
      },
      "execution_count": 177,
      "outputs": [
        {
          "output_type": "stream",
          "name": "stdout",
          "text": [
            "책 제목 : 하얼빈\n",
            "책 저자 : 김훈\n",
            "책 제목 : 채식주의자\n",
            "책 저자 : 한강\n"
          ]
        }
      ]
    },
    {
      "cell_type": "markdown",
      "source": [
        "책 제목:하얼빈\n",
        "\n",
        "책 저자:김훈\n",
        "\n",
        "책 제목:채식주의자\n",
        "\n",
        "책 저자:한강\n",
        "\n",
        "클래스 만들어주시고 작성된 클래스를 사용하는  클라이언트의 내용도 보내주세요"
      ],
      "metadata": {
        "id": "1rBxcbf59KZ5"
      }
    },
    {
      "cell_type": "markdown",
      "source": [
        "###문제"
      ],
      "metadata": {
        "id": "PMkzE72MeoH7"
      }
    },
    {
      "cell_type": "code",
      "source": [
        "class Song:\n",
        "    def set_song(self,title,genre):\n",
        "        self.title = title\n",
        "        self.genre = genre\n",
        "    def print_song(self):\n",
        "        print(f\"노래제목 : {self.title}({self.genre})\")"
      ],
      "metadata": {
        "id": "Kx7Q_v_OfPVW"
      },
      "execution_count": 223,
      "outputs": []
    },
    {
      "cell_type": "code",
      "source": [
        "obj_song = Song()\n",
        "obj_song.set_song('취중진담','발라드')\n",
        "obj_song.print_song()"
      ],
      "metadata": {
        "colab": {
          "base_uri": "https://localhost:8080/"
        },
        "id": "2i8757K1f4bc",
        "outputId": "89150b11-0e25-4732-f914-78d2a0765fea"
      },
      "execution_count": 226,
      "outputs": [
        {
          "output_type": "stream",
          "name": "stdout",
          "text": [
            "노래제목 : 취중진담(발라드)\n"
          ]
        }
      ]
    },
    {
      "cell_type": "code",
      "source": [
        "class Singer:\n",
        "    def set_singer(self,name):\n",
        "        self.name = name\n",
        "\n",
        "    def hit_song(self,song):\n",
        "        self.song = song  #self.song = obj_song\n",
        "\n",
        "    def print_singer(self):\n",
        "        print(f\"가수이름 : {self.name}\"), self.song.print_song()"
      ],
      "metadata": {
        "id": "HqG1PpWSgjHU"
      },
      "execution_count": 241,
      "outputs": []
    },
    {
      "cell_type": "code",
      "source": [
        "obj_singer = Singer()\n",
        "obj_singer.set_singer('김동률')"
      ],
      "metadata": {
        "id": "y12HtPdXhAde"
      },
      "execution_count": 242,
      "outputs": []
    },
    {
      "cell_type": "code",
      "source": [
        "obj_singer.hit_song(obj_song)\n",
        "obj_singer.print_singer()"
      ],
      "metadata": {
        "colab": {
          "base_uri": "https://localhost:8080/"
        },
        "id": "iw0giWCOhTUN",
        "outputId": "86c87d0e-1201-41e8-92fd-99afb88d7e12"
      },
      "execution_count": 243,
      "outputs": [
        {
          "output_type": "stream",
          "name": "stdout",
          "text": [
            "가수이름 : 김동률\n",
            "노래제목 : 취중진담(발라드)\n"
          ]
        }
      ]
    },
    {
      "cell_type": "code",
      "source": [
        "obj_song = Song()\n",
        "obj_song.set_song('취중진담','발라드')\n",
        "obj_song.print_song()  #\"노래제목 : 취중진담(발라드)\"가 출력되게 하시오.\n",
        "obj_singer = Singer()\n",
        "obj_singer.set_singer('김동률')\n",
        "obj_singer.hit_song(obj_song)  #obj_singer의 인스턴스 변수에서 노래제목에 접근이 가능하도록 하시오.\n",
        "obj_singer.print_singer()      #\"가수이름 : 김동률\"과 \"노래제목 : 취중진담(발라드)\"가 출력되게 하시오."
      ],
      "metadata": {
        "colab": {
          "base_uri": "https://localhost:8080/"
        },
        "id": "WvlWpoti9S6j",
        "outputId": "8b4e852f-689f-4331-f34e-7a1f191e382c"
      },
      "execution_count": 244,
      "outputs": [
        {
          "output_type": "stream",
          "name": "stdout",
          "text": [
            "노래제목 : 취중진담(발라드)\n",
            "가수이름 : 김동률\n",
            "노래제목 : 취중진담(발라드)\n"
          ]
        }
      ]
    },
    {
      "cell_type": "code",
      "source": [],
      "metadata": {
        "id": "HLBlVdbRQMQF"
      },
      "execution_count": null,
      "outputs": []
    },
    {
      "cell_type": "markdown",
      "source": [
        ": 이거 위에 코딩에서 중간에 song 대신 obj_song 넣은 건데 똑같이 코딩 쳐서 잘 돌아가는지 확인해봐\n",
        "\n",
        "---"
      ],
      "metadata": {
        "id": "nW89MZLYmUKS"
      }
    },
    {
      "cell_type": "code",
      "source": [
        "class Song:\n",
        "    def set_song(self,title,genre):\n",
        "        self.title = title\n",
        "        self.genre = genre\n",
        "    def print_song(self):\n",
        "        print(f\"노래제목 : {self.title}({self.genre})\")\n",
        "\n",
        "class Singer:\n",
        "    def set_singer(self,name):\n",
        "        self.name = name\n",
        "    def hit_song(self,obj_song):\n",
        "        self.hits = obj_song  #self.song = obj_song\n",
        "    def print_singer(self):\n",
        "        self.hits.print_song()\n",
        "        #print(f\"노래제목 : {self.name}\"), self.song.print_song()\n",
        "\n",
        "obj_song = Song()\n",
        "obj_song.set_song('취중진담','발라드')\n",
        "obj_song.print_song()  #\"노래제목 : 취중진담(발라드)\"가 출력되게 하시오."
      ],
      "metadata": {
        "colab": {
          "base_uri": "https://localhost:8080/"
        },
        "id": "jQ4gkpwIIfsS",
        "outputId": "ee739a81-520f-43b8-897c-f9a9a3b317d9"
      },
      "execution_count": 330,
      "outputs": [
        {
          "output_type": "stream",
          "name": "stdout",
          "text": [
            "노래제목 : 취중진담(발라드)\n"
          ]
        }
      ]
    },
    {
      "cell_type": "code",
      "source": [
        "obj_singer = Singer()\n",
        "obj_singer.set_singer('김동률')\n",
        "obj_singer.hit_song(obj_song)  #obj_singer의 인스턴스 변수에서 노래제목에 접근이 가능하도록 하시오.\n",
        "obj_singer.print_singer()"
      ],
      "metadata": {
        "colab": {
          "base_uri": "https://localhost:8080/"
        },
        "id": "zfoODJe0QO9o",
        "outputId": "26e2b6f7-2520-4fda-a5bc-a8c726b8da5f"
      },
      "execution_count": 331,
      "outputs": [
        {
          "output_type": "stream",
          "name": "stdout",
          "text": [
            "노래제목 : 취중진담(발라드)\n"
          ]
        }
      ]
    },
    {
      "cell_type": "code",
      "source": [
        "class Personal(list):\n",
        "    def __init__(self, name, dob, descs):\n",
        "        self.name = name\n",
        "        self.dob = dob\n",
        "        self.append(descs)\n",
        "    def present(self):\n",
        "        print(self.name, \":\", self.dob)\n",
        "        print(self)"
      ],
      "metadata": {
        "id": "kwFo17G_mBMV"
      },
      "execution_count": 245,
      "outputs": []
    },
    {
      "cell_type": "markdown",
      "source": [
        "1. Personal 클래스에 맞게 인스턴스 객체를 생성해보시오.\n",
        "2. 인스턴스 객체에 append를 사용하여 임의의 문구를 추가해보시오.\n",
        "       임의의 문구:\"전화하지 마세요\"\n",
        "3. name을 key로 하고, 인스턴스 객체를 value로 하는 dictionary를 만들어보시오."
      ],
      "metadata": {
        "id": "Vrzz_zd3mtwP"
      }
    },
    {
      "cell_type": "code",
      "source": [
        "p1 = Personal('홍길동','2002-09-12','휴가 중')\n",
        "p1"
      ],
      "metadata": {
        "colab": {
          "base_uri": "https://localhost:8080/"
        },
        "id": "Al4G48fXms6B",
        "outputId": "bb242555-39b5-4a0e-ea41-d6851474abc5"
      },
      "execution_count": 251,
      "outputs": [
        {
          "output_type": "execute_result",
          "data": {
            "text/plain": [
              "['휴가 중']"
            ]
          },
          "metadata": {},
          "execution_count": 251
        }
      ]
    },
    {
      "cell_type": "code",
      "source": [
        "p1.append(\"전화하지 마세요\")"
      ],
      "metadata": {
        "id": "7CtweEAonKRV"
      },
      "execution_count": 252,
      "outputs": []
    },
    {
      "cell_type": "code",
      "source": [
        "p1"
      ],
      "metadata": {
        "colab": {
          "base_uri": "https://localhost:8080/"
        },
        "id": "z_nZko_gtgca",
        "outputId": "5eac3eff-bbc2-4c70-83b8-92069f4cd231"
      },
      "execution_count": 253,
      "outputs": [
        {
          "output_type": "execute_result",
          "data": {
            "text/plain": [
              "['휴가 중', '전화하지 마세요']"
            ]
          },
          "metadata": {},
          "execution_count": 253
        }
      ]
    },
    {
      "cell_type": "code",
      "source": [
        "person_dict = {p1.name : p1}"
      ],
      "metadata": {
        "id": "XXOX8IEzthXO"
      },
      "execution_count": 254,
      "outputs": []
    },
    {
      "cell_type": "code",
      "source": [
        "person_dict"
      ],
      "metadata": {
        "colab": {
          "base_uri": "https://localhost:8080/"
        },
        "id": "AsOJB60ItrKo",
        "outputId": "b3927346-207e-4cb2-a07b-3697458cdb42"
      },
      "execution_count": 255,
      "outputs": [
        {
          "output_type": "execute_result",
          "data": {
            "text/plain": [
              "{'홍길동': ['휴가 중', '전화하지 마세요']}"
            ]
          },
          "metadata": {},
          "execution_count": 255
        }
      ]
    },
    {
      "cell_type": "code",
      "source": [
        "person_dict['홍길동'].present()"
      ],
      "metadata": {
        "colab": {
          "base_uri": "https://localhost:8080/"
        },
        "id": "KB3lTMnetu2j",
        "outputId": "99fb6d42-e321-4a48-93ac-63f1495ff835"
      },
      "execution_count": 257,
      "outputs": [
        {
          "output_type": "stream",
          "name": "stdout",
          "text": [
            "홍길동 : 2002-09-12\n",
            "['휴가 중', '전화하지 마세요']\n"
          ]
        }
      ]
    },
    {
      "cell_type": "code",
      "source": [
        "person_dict['홍길동'].append('소설 속 인물')\n",
        "person_dict"
      ],
      "metadata": {
        "colab": {
          "base_uri": "https://localhost:8080/"
        },
        "id": "ohW8vlLouBq-",
        "outputId": "43f2700a-2260-4234-e4a8-52924a34ff36"
      },
      "execution_count": 259,
      "outputs": [
        {
          "output_type": "execute_result",
          "data": {
            "text/plain": [
              "{'홍길동': ['휴가 중', '전화하지 마세요', '소설 속 인물', '소설 속 인물']}"
            ]
          },
          "metadata": {},
          "execution_count": 259
        }
      ]
    },
    {
      "cell_type": "code",
      "source": [
        "person_dict['홍길동'].present()  #딕셔너리가 속도가 더 빠름"
      ],
      "metadata": {
        "colab": {
          "base_uri": "https://localhost:8080/"
        },
        "id": "0ZFutTnLuIpe",
        "outputId": "848b5935-1c24-438e-8b10-c2b600bf3d9c"
      },
      "execution_count": 261,
      "outputs": [
        {
          "output_type": "stream",
          "name": "stdout",
          "text": [
            "홍길동 : 2002-09-12\n",
            "['휴가 중', '전화하지 마세요', '소설 속 인물', '소설 속 인물']\n"
          ]
        }
      ]
    },
    {
      "cell_type": "markdown",
      "source": [
        "리스트 + 딕셔너리 + 사용자 데이터 + 사용자 기능"
      ],
      "metadata": {
        "id": "XHKWfhtuuWma"
      }
    },
    {
      "cell_type": "code",
      "source": [
        "#사용자가 코드를 고치지 않게 가려놓음 #인캡슐\n",
        "#파이썬에서 인캡슐은 100% 되지 않음\n",
        "\n",
        "Rossum = Personal(\"Guildo van Fossum\", 1991, '모르는 사람')"
      ],
      "metadata": {
        "id": "KJ_lHQDsuO3Y"
      },
      "execution_count": 265,
      "outputs": []
    },
    {
      "cell_type": "code",
      "source": [
        "Rossum.append('파이썬 발명가')"
      ],
      "metadata": {
        "id": "ploIQj9Tv9cr"
      },
      "execution_count": 266,
      "outputs": []
    },
    {
      "cell_type": "markdown",
      "source": [
        "## Decorators\n",
        "\n",
        "장식자 : 함수를 인수로 받는 함수 클로저\n",
        "\n",
        "함수 클로저 : 함수 코드와 그 함수의 변수 참조 영역을 묶은 객체"
      ],
      "metadata": {
        "id": "nZiZY9E7w6Iw"
      }
    },
    {
      "cell_type": "markdown",
      "source": [
        "함수 클로저에서는 내부 함수에서 심볼 테이블을 인수로 받았다.\n",
        "\n",
        "장식자는 내부 함수에서 함수를 인수로 받는다.\n",
        "\n",
        "\n",
        "** 클래스에서 가끔 장식자가 나타남"
      ],
      "metadata": {
        "id": "qVgkSXDlyiVN"
      }
    },
    {
      "cell_type": "code",
      "source": [
        "def quadratic(a,b,c):\n",
        "    cache = {}\n",
        "    def f(x):\n",
        "        if x in cache:\n",
        "            return cache[x]\n",
        "        y = a*x*x + b*x + c\n",
        "        cache[x] = y\n",
        "        return y\n",
        "    return f\n",
        "\n",
        "f1 = quadratic(1,2,1)\n",
        "print(f1(1))\n",
        "f2 = quadratic(1,6,9)\n",
        "f2(1)"
      ],
      "metadata": {
        "colab": {
          "base_uri": "https://localhost:8080/"
        },
        "id": "UgZBCWw9wCrC",
        "outputId": "856faf9b-2d5b-4ded-de4a-a29189d5ce61"
      },
      "execution_count": 274,
      "outputs": [
        {
          "output_type": "stream",
          "name": "stdout",
          "text": [
            "4\n"
          ]
        },
        {
          "output_type": "execute_result",
          "data": {
            "text/plain": [
              "16"
            ]
          },
          "metadata": {},
          "execution_count": 274
        }
      ]
    },
    {
      "cell_type": "markdown",
      "source": [
        "![image.png](data:image/png;base64,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)"
      ],
      "metadata": {
        "id": "enuO1DVZxYrd"
      }
    },
    {
      "cell_type": "markdown",
      "source": [
        "f1, f2 서로 간섭 못함"
      ],
      "metadata": {
        "id": "EIFcSudkxfts"
      }
    },
    {
      "cell_type": "code",
      "source": [
        "def wrapper(func):\n",
        "    def wrapped_func():  #내부함수가 파라미터 X\n",
        "        print('====before====')\n",
        "        func()\n",
        "        print('====after====')\n",
        "    return wrapped_func"
      ],
      "metadata": {
        "id": "EtQr2VyBxeC0"
      },
      "execution_count": 275,
      "outputs": []
    },
    {
      "cell_type": "code",
      "source": [
        "def myfunc():\n",
        "    print('   I am here')"
      ],
      "metadata": {
        "id": "fIS--ncLzgkW"
      },
      "execution_count": 276,
      "outputs": []
    },
    {
      "cell_type": "code",
      "source": [
        "result = wrapper(myfunc)   # == wrapped_func 함수"
      ],
      "metadata": {
        "id": "sp9gf9_uzjwF"
      },
      "execution_count": 280,
      "outputs": []
    },
    {
      "cell_type": "code",
      "source": [
        "result()"
      ],
      "metadata": {
        "colab": {
          "base_uri": "https://localhost:8080/"
        },
        "id": "uxzm8z9RztJP",
        "outputId": "99bf5ed4-0f27-4298-ab41-8f6e377db7a0"
      },
      "execution_count": 281,
      "outputs": [
        {
          "output_type": "stream",
          "name": "stdout",
          "text": [
            "====before====\n",
            "   I am here\n",
            "====after====\n"
          ]
        }
      ]
    },
    {
      "cell_type": "code",
      "source": [
        "@wrapper\n",
        "def myfunc2():\n",
        "    print('me too')"
      ],
      "metadata": {
        "id": "eC9-oLLdz-ia"
      },
      "execution_count": 285,
      "outputs": []
    },
    {
      "cell_type": "code",
      "source": [
        "myfunc2()"
      ],
      "metadata": {
        "colab": {
          "base_uri": "https://localhost:8080/"
        },
        "id": "FK5g0gZm1Lhh",
        "outputId": "89070823-3b27-4711-87ed-c31d2e35ddc7"
      },
      "execution_count": 287,
      "outputs": [
        {
          "output_type": "stream",
          "name": "stdout",
          "text": [
            "====before====\n",
            "me too\n",
            "====after====\n"
          ]
        }
      ]
    },
    {
      "cell_type": "code",
      "source": [
        "def makebold(fn):   #파라미터로 함수 반환\n",
        "    def wrapped():\n",
        "        return '<b>' + fn() + '</b>' #태그 b #fn 함수 호출 #b 태그 닫기\n",
        "    return wrapped\n",
        "def makeitalic(fn):\n",
        "    def wrapped():  #내부 함수가 파라미터가 없음\n",
        "        return '<i>' + fn() + '</i>'\n",
        "    return wrapped"
      ],
      "metadata": {
        "id": "CWp0_TI51RrX"
      },
      "execution_count": 291,
      "outputs": []
    },
    {
      "cell_type": "code",
      "source": [
        "@makeitalic\n",
        "@makebold  # 위에서 정의한 것들을 @이거 두개로 장식\n",
        "def say():\n",
        "    return 'Hello'"
      ],
      "metadata": {
        "id": "BksAPUfc6q0K"
      },
      "execution_count": 292,
      "outputs": []
    },
    {
      "cell_type": "code",
      "source": [
        "say()"
      ],
      "metadata": {
        "colab": {
          "base_uri": "https://localhost:8080/",
          "height": 35
        },
        "id": "bq3LR23n6uZ7",
        "outputId": "d9e709db-d132-48dd-ac29-8d238140185b"
      },
      "execution_count": 293,
      "outputs": [
        {
          "output_type": "execute_result",
          "data": {
            "text/plain": [
              "'<i><b>Hello</b></i>'"
            ],
            "application/vnd.google.colaboratory.intrinsic+json": {
              "type": "string"
            }
          },
          "metadata": {},
          "execution_count": 293
        }
      ]
    },
    {
      "cell_type": "markdown",
      "source": [
        "f = makeitalic(makebold(say))의 형태가 된"
      ],
      "metadata": {
        "id": "i6edW2Jk7JKW"
      }
    },
    {
      "cell_type": "markdown",
      "source": [
        "---\n",
        "인수 전달하는 장식자의 예"
      ],
      "metadata": {
        "id": "8MD_KzZI8izZ"
      }
    },
    {
      "cell_type": "code",
      "source": [
        "def debug(fn):           #장식자들은 주로 디버깅할 때 쓰일 수 있음\n",
        "    def wrapped(a,b):    #a,b를 결정 #fn과 동일한 인수를 적어준다.\n",
        "        print('debug', a, b)\n",
        "        return fn(a, b)  #함수 fn을 호출한다.\n",
        "    return wrapped"
      ],
      "metadata": {
        "id": "VDE60VlY6vJu"
      },
      "execution_count": 295,
      "outputs": []
    },
    {
      "cell_type": "code",
      "source": [
        "@debug\n",
        "def add(a,b):\n",
        "    return a+b"
      ],
      "metadata": {
        "id": "Z-Jksmc37tjw"
      },
      "execution_count": 296,
      "outputs": []
    },
    {
      "cell_type": "code",
      "source": [
        "add(1,2)"
      ],
      "metadata": {
        "colab": {
          "base_uri": "https://localhost:8080/"
        },
        "id": "V6_5thaX8ND5",
        "outputId": "27c4b175-6b55-4efe-c647-6710356b436c"
      },
      "execution_count": 297,
      "outputs": [
        {
          "output_type": "stream",
          "name": "stdout",
          "text": [
            "debug 1 2\n"
          ]
        },
        {
          "output_type": "execute_result",
          "data": {
            "text/plain": [
              "3"
            ]
          },
          "metadata": {},
          "execution_count": 297
        }
      ]
    },
    {
      "cell_type": "markdown",
      "source": [
        "---\n",
        "인수 전달을 일반화하는 경우"
      ],
      "metadata": {
        "id": "DrvREZJq8mBn"
      }
    },
    {
      "cell_type": "code",
      "source": [
        "def debug(fn):\n",
        "    def wrapped(*args, **kwargs):\n",
        "        print('calling', fn.__name__, 'args= ', args, 'kwargs= ', kwargs)\n",
        "        result = fn(*args, **kwargs)\n",
        "        print('   result = ', result)\n",
        "        return result\n",
        "    return wrapped\n",
        "\n",
        "# kwargs는 키워드 파라미터가 몇개인지 모를 때 딕셔너리로 받아주는 것"
      ],
      "metadata": {
        "id": "ZkIfzksQ8NjQ"
      },
      "execution_count": 301,
      "outputs": []
    },
    {
      "cell_type": "code",
      "source": [
        "@debug\n",
        "def add(a,b):\n",
        "    return a+b"
      ],
      "metadata": {
        "id": "okfT9GLW84vR"
      },
      "execution_count": 302,
      "outputs": []
    },
    {
      "cell_type": "code",
      "source": [
        "add(10,20)"
      ],
      "metadata": {
        "colab": {
          "base_uri": "https://localhost:8080/"
        },
        "id": "Bnh_udmc9RY0",
        "outputId": "e0395661-b5e5-4a65-95e2-3c0513e55004"
      },
      "execution_count": 303,
      "outputs": [
        {
          "output_type": "stream",
          "name": "stdout",
          "text": [
            "calling add args=  (10, 20) kwargs=  {}\n",
            "   result =  30\n"
          ]
        },
        {
          "output_type": "execute_result",
          "data": {
            "text/plain": [
              "30"
            ]
          },
          "metadata": {},
          "execution_count": 303
        }
      ]
    },
    {
      "cell_type": "markdown",
      "source": [
        "Q. 아래로 출력되도록 장식자와 함수를 만들어주세요\n",
        "\n",
        "입력값:\n",
        "\n",
        "    myfunc4(10,20)\n",
        "\n",
        "출력값:\n",
        "\n",
        "    ====before====\n",
        "    I am here.\n",
        "    ====after====\n",
        "    30"
      ],
      "metadata": {
        "id": "6WSzScKR-NCo"
      }
    },
    {
      "cell_type": "code",
      "source": [
        "def wrapper(func):\n",
        "    def wrapped_func(*args):\n",
        "        print('====before====')\n",
        "        result = func(*args)\n",
        "        print('====after====')\n",
        "        return result\n",
        "    return wrapped_func\n",
        "\n",
        "@wrapper\n",
        "def myfunc4(a,b):\n",
        "    print('I am here.')\n",
        "    return a+b\n",
        "\n",
        "result = myfunc4(10,20)\n",
        "print(result)"
      ],
      "metadata": {
        "colab": {
          "base_uri": "https://localhost:8080/"
        },
        "id": "tuVbzN3V9yFz",
        "outputId": "2ca59217-ccbe-4242-9397-6cd73c215d72"
      },
      "execution_count": 328,
      "outputs": [
        {
          "output_type": "stream",
          "name": "stdout",
          "text": [
            "====before====\n",
            "I am here.\n",
            "====after====\n",
            "30\n"
          ]
        }
      ]
    },
    {
      "cell_type": "code",
      "source": [],
      "metadata": {
        "id": "wLPu1Q1__m9y"
      },
      "execution_count": 328,
      "outputs": []
    }
  ]
}