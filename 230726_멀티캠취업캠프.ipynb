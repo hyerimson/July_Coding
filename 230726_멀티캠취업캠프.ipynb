{
  "nbformat": 4,
  "nbformat_minor": 0,
  "metadata": {
    "colab": {
      "provenance": [],
      "authorship_tag": "ABX9TyM0bnT029gNWi/NWqEWMCJU",
      "include_colab_link": true
    },
    "kernelspec": {
      "name": "python3",
      "display_name": "Python 3"
    },
    "language_info": {
      "name": "python"
    }
  },
  "cells": [
    {
      "cell_type": "markdown",
      "metadata": {
        "id": "view-in-github",
        "colab_type": "text"
      },
      "source": [
        "<a href=\"https://colab.research.google.com/github/hyerimson/July_Coding/blob/main/230726_%EB%A9%80%ED%8B%B0%EC%BA%A0%EC%B7%A8%EC%97%85%EC%BA%A0%ED%94%84.ipynb\" target=\"_parent\"><img src=\"https://colab.research.google.com/assets/colab-badge.svg\" alt=\"Open In Colab\"/></a>"
      ]
    },
    {
      "cell_type": "markdown",
      "source": [
        "\n",
        "## DNA 문제\n",
        "\n",
        "코돈 : 염기 3개 묶음\n",
        "\n",
        "시작 코돈 : ATG\n",
        "\n",
        "종결 코돈 : TAA, TGA, TAG 중 하나여야\n",
        "\n",
        "중간에 TAA, TGA, TAG가 있으면 안된다\n",
        "\n",
        "문자열의 크기: 3의 배수\n",
        "\n",
        "---"
      ],
      "metadata": {
        "id": "DvoOrrNjhamJ"
      }
    },
    {
      "cell_type": "markdown",
      "source": [
        "ATGCGCCTGCGTCTGTACTAG\n",
        "\n",
        "ATGCGCTGCGTCTGTACTAG\n",
        "\n",
        "위 두개가 DNA인지 아닌지 판단하는 코딩"
      ],
      "metadata": {
        "id": "aGrxYAgXhel3"
      }
    },
    {
      "cell_type": "code",
      "execution_count": null,
      "metadata": {
        "id": "W4HYvZOKgTFU"
      },
      "outputs": [],
      "source": [
        "#강예진님 코드\n",
        "\n",
        "def check_dna(base):\n",
        "    cond1 = (len(base) % 3 == 0)\n",
        "    if not cond1:\n",
        "        return 'DNA가 아닙니다.'\n",
        "    dna_list=[base[i:i+3] for i in range(0,len(base),3)]\n",
        "    cond2=dna_list[0] == 'ATG'\n",
        "    cond3=any((dna_list[-1]=='TAG', dna_list[-1]=='TGA',dna_list[-1]=='TAG'))\n",
        "    cond4=all(('TAA' not in dna_list[1:-1], 'TGA' not in dna_list[1:-1],'TAG' not in dna_list[1:-1]))\n",
        "\n",
        "    if cond2 and cond3 and cond4:\n",
        "        return 'DNA입니다.'\n",
        "    return 'DNA가 아닙니다.'"
      ]
    },
    {
      "cell_type": "code",
      "source": [
        "check_dna('ATGCGCCTGCGTCTGTACTAG')"
      ],
      "metadata": {
        "colab": {
          "base_uri": "https://localhost:8080/",
          "height": 35
        },
        "id": "WoZZhsxknsYV",
        "outputId": "05ccf77f-613b-4491-cca4-d0ea9a39d568"
      },
      "execution_count": null,
      "outputs": [
        {
          "output_type": "execute_result",
          "data": {
            "text/plain": [
              "'DNA입니다.'"
            ],
            "application/vnd.google.colaboratory.intrinsic+json": {
              "type": "string"
            }
          },
          "metadata": {},
          "execution_count": 26
        }
      ]
    },
    {
      "cell_type": "code",
      "source": [
        "check_dna('ATGCGCTGCGTCTGTACTG')"
      ],
      "metadata": {
        "colab": {
          "base_uri": "https://localhost:8080/",
          "height": 35
        },
        "id": "7y0jef0npKDI",
        "outputId": "8d8617a8-5a2d-4fb8-d64c-6139ccfad018"
      },
      "execution_count": null,
      "outputs": [
        {
          "output_type": "execute_result",
          "data": {
            "text/plain": [
              "'DNA가 아닙니다.'"
            ],
            "application/vnd.google.colaboratory.intrinsic+json": {
              "type": "string"
            }
          },
          "metadata": {},
          "execution_count": 28
        }
      ]
    },
    {
      "cell_type": "code",
      "source": [
        "check_dna('ATGCGCCTGCGTCTGTAGTAG')"
      ],
      "metadata": {
        "colab": {
          "base_uri": "https://localhost:8080/",
          "height": 35
        },
        "id": "dAENmzkDpQk-",
        "outputId": "9666ee1f-58b5-4198-d3ba-5b30c919296f"
      },
      "execution_count": null,
      "outputs": [
        {
          "output_type": "execute_result",
          "data": {
            "text/plain": [
              "'DNA가 아닙니다.'"
            ],
            "application/vnd.google.colaboratory.intrinsic+json": {
              "type": "string"
            }
          },
          "metadata": {},
          "execution_count": 32
        }
      ]
    },
    {
      "cell_type": "code",
      "source": [
        "check_dna('ATGCGCCTCGCTCTTAGTAG')"
      ],
      "metadata": {
        "colab": {
          "base_uri": "https://localhost:8080/",
          "height": 35
        },
        "id": "RGiq2WSJpWQg",
        "outputId": "61bb1c23-0164-41d2-fd4e-bb17177d33a9"
      },
      "execution_count": null,
      "outputs": [
        {
          "output_type": "execute_result",
          "data": {
            "text/plain": [
              "'DNA가 아닙니다.'"
            ],
            "application/vnd.google.colaboratory.intrinsic+json": {
              "type": "string"
            }
          },
          "metadata": {},
          "execution_count": 31
        }
      ]
    },
    {
      "cell_type": "code",
      "source": [
        "#김태은님 코드\n",
        "\n",
        "def is_dna(sequence):\n",
        "    if len(sequence) % 3 != 0:\n",
        "        return False\n",
        "    start_codon = 'ATG'\n",
        "    end_codon = ['TAA','TGA','TAG']\n",
        "    if not sequence.startswith(start_codon):\n",
        "        return False\n",
        "\n",
        "    middle_sequence = sequence[3:-3]\n",
        "    for i in range(0,len(middle_sequence),3):\n",
        "        codon=middle_sequence[i:i+3]\n",
        "        for end_codon in end_codon:\n",
        "            if codon == end_codon:\n",
        "                return False\n",
        "    return True\n",
        "\n",
        "sequence1 = 'ATGCGCCTGCGTCTGTACTAG'\n",
        "sequence2 = 'ATGCGCTGCGTCTGTACTG'\n",
        "sequence3 = 'ATGCGCCTGCGTCTGTAGTAG'\n",
        "sequence4 = 'ATGCGCCTCGCTCTTAGTAG'\n",
        "\n",
        "if is_dna(sequence1):\n",
        "    print('sequence1 is DNA')\n",
        "\n",
        "if is_dna(sequence2):\n",
        "    print('sequence2 is DNA')\n",
        "\n",
        "if is_dna(sequence3):\n",
        "    print('sequence3 is DNA')\n",
        "\n",
        "if is_dna(sequence4):\n",
        "    print('sequence4 is DNA')"
      ],
      "metadata": {
        "colab": {
          "base_uri": "https://localhost:8080/"
        },
        "id": "p0jt-ciMkUah",
        "outputId": "7526e3fb-eb2a-4a27-caa5-c4c337d0c5e4"
      },
      "execution_count": null,
      "outputs": [
        {
          "output_type": "stream",
          "name": "stdout",
          "text": [
            "sequence1 is DNA\n",
            "sequence3 is DNA\n"
          ]
        }
      ]
    },
    {
      "cell_type": "code",
      "source": [
        "#강사님 버전 #더 쉽게 #더 구리지만 #알아둘 필요 있음\n",
        "def isPotentialGene(dna):\n",
        "    if (len(dna) % 3) != 0: #3의배수가 아니면 바로 return 때리는\n",
        "        return False\n",
        "    if not dna.startswith('ATG'): #앞 3명의 코드보다 구림 # 강사 버전\n",
        "        return False\n",
        "    for i in range(len(dna)-3): #맨 뒤에 코돈 3개만 빼내기 위함\n",
        "        if i % 3 ==0:\n",
        "            if dna[i:i+3] == 'TAA': #i=0이라면 dna[0:3]=0,1,2 / i=3이라면 dna[3:6]\n",
        "                return False #조건 만족하지 않으면 빨리 return으로 빠져나오는 흐름\n",
        "            if dna[i:i+3] == 'TAG':\n",
        "                return False\n",
        "            if dna[i:i+3] == 'TGA':\n",
        "                return False\n",
        "    if dna.endswith('TAA'):\n",
        "        return True\n",
        "    if dna.endswith('TAG'):\n",
        "        return True\n",
        "    if dna.endswith('TGA'):\n",
        "        return True\n",
        "    return False"
      ],
      "metadata": {
        "id": "i86rKK_qlfBR"
      },
      "execution_count": null,
      "outputs": []
    },
    {
      "cell_type": "markdown",
      "source": [
        "#lambda 함수\n",
        "\n",
        " - 일반적인 함수를 한 줄의 문(Statement)으로 정의할 수 있는 새로운 함수 정의\n",
        "    - 함수 몸체에는 식(expression)만이 올 수 있다.\n",
        "\n",
        " - 대부분의 경우 함수 이름을 정의하지 않으면서 일회성으로 활용할 함수를 정의할 때 활용\n",
        " - 구문(syntax)\n",
        "    - lamda 콤마로 구분된 인수들 : 식(expression)\n",
        "\n",
        "<파이썬3 바이블, 이강성, 프리렉>"
      ],
      "metadata": {
        "id": "f6SZeDAfn6gp"
      }
    },
    {
      "cell_type": "code",
      "source": [
        "f = lambda x,y : x+y"
      ],
      "metadata": {
        "id": "Ra5nkWNLnFVB"
      },
      "execution_count": null,
      "outputs": []
    },
    {
      "cell_type": "code",
      "source": [
        "f(1,2)"
      ],
      "metadata": {
        "colab": {
          "base_uri": "https://localhost:8080/"
        },
        "id": "ioUH3xleopMX",
        "outputId": "e6792dbf-491c-4bbf-becf-4b9b51fcb723"
      },
      "execution_count": null,
      "outputs": [
        {
          "output_type": "execute_result",
          "data": {
            "text/plain": [
              "3"
            ]
          },
          "metadata": {},
          "execution_count": 19
        }
      ]
    },
    {
      "cell_type": "code",
      "source": [
        "def f(x,y):\n",
        "    return x+y"
      ],
      "metadata": {
        "id": "ybJOkLy7oZil"
      },
      "execution_count": null,
      "outputs": []
    },
    {
      "cell_type": "code",
      "source": [
        "f(1,2)"
      ],
      "metadata": {
        "colab": {
          "base_uri": "https://localhost:8080/"
        },
        "id": "e477lc1loekc",
        "outputId": "df0c91df-6aa4-46eb-c519-0232ae2016ea"
      },
      "execution_count": null,
      "outputs": [
        {
          "output_type": "execute_result",
          "data": {
            "text/plain": [
              "3"
            ]
          },
          "metadata": {},
          "execution_count": 16
        }
      ]
    },
    {
      "cell_type": "code",
      "source": [
        "f('test','python')"
      ],
      "metadata": {
        "colab": {
          "base_uri": "https://localhost:8080/",
          "height": 35
        },
        "id": "X8h_8W5cokRD",
        "outputId": "57d1d13c-0288-48ea-a537-03b45c9b6b80"
      },
      "execution_count": null,
      "outputs": [
        {
          "output_type": "execute_result",
          "data": {
            "text/plain": [
              "'testpython'"
            ],
            "application/vnd.google.colaboratory.intrinsic+json": {
              "type": "string"
            }
          },
          "metadata": {},
          "execution_count": 21
        }
      ]
    },
    {
      "cell_type": "code",
      "source": [
        "g=lambda : 1\n",
        "g()"
      ],
      "metadata": {
        "colab": {
          "base_uri": "https://localhost:8080/"
        },
        "id": "TAS6a7Dtol_1",
        "outputId": "0fd249cc-0133-4b72-8e14-ce03195537ba"
      },
      "execution_count": null,
      "outputs": [
        {
          "output_type": "execute_result",
          "data": {
            "text/plain": [
              "1"
            ]
          },
          "metadata": {},
          "execution_count": 34
        }
      ]
    },
    {
      "cell_type": "code",
      "source": [
        "f = lambda x : x+1\n",
        "f(2)"
      ],
      "metadata": {
        "colab": {
          "base_uri": "https://localhost:8080/"
        },
        "id": "6HKYT_mWpiSB",
        "outputId": "2c6b2fd5-3e4c-4ffe-a34d-bc8c906d999a"
      },
      "execution_count": null,
      "outputs": [
        {
          "output_type": "execute_result",
          "data": {
            "text/plain": [
              "3"
            ]
          },
          "metadata": {},
          "execution_count": 36
        }
      ]
    },
    {
      "cell_type": "code",
      "source": [
        "incre = lambda x, i=1 : x+i"
      ],
      "metadata": {
        "id": "Hv3ScaDcpmy9"
      },
      "execution_count": null,
      "outputs": []
    },
    {
      "cell_type": "code",
      "source": [
        "incre(2)"
      ],
      "metadata": {
        "colab": {
          "base_uri": "https://localhost:8080/"
        },
        "id": "UpddlshmpwLH",
        "outputId": "29866320-6d76-45b7-fe98-959a612a0447"
      },
      "execution_count": null,
      "outputs": [
        {
          "output_type": "execute_result",
          "data": {
            "text/plain": [
              "3"
            ]
          },
          "metadata": {},
          "execution_count": 43
        }
      ]
    },
    {
      "cell_type": "code",
      "source": [
        "incre(2,10)"
      ],
      "metadata": {
        "colab": {
          "base_uri": "https://localhost:8080/"
        },
        "id": "zsVRm8VTpsUW",
        "outputId": "ab3d39be-39f1-405a-8bb0-9eeda746d623"
      },
      "execution_count": null,
      "outputs": [
        {
          "output_type": "execute_result",
          "data": {
            "text/plain": [
              "12"
            ]
          },
          "metadata": {},
          "execution_count": 44
        }
      ]
    },
    {
      "cell_type": "code",
      "source": [
        "vargs = lambda x, *args : args"
      ],
      "metadata": {
        "id": "1COQISZ7ptkO"
      },
      "execution_count": null,
      "outputs": []
    },
    {
      "cell_type": "code",
      "source": [
        "vargs(1,2,3,4,5)"
      ],
      "metadata": {
        "colab": {
          "base_uri": "https://localhost:8080/"
        },
        "id": "sGGiA6Lhp9rh",
        "outputId": "f9b95f85-9c3e-48e5-deda-610517213b8f"
      },
      "execution_count": null,
      "outputs": [
        {
          "output_type": "execute_result",
          "data": {
            "text/plain": [
              "(2, 3, 4, 5)"
            ]
          },
          "metadata": {},
          "execution_count": 46
        }
      ]
    },
    {
      "cell_type": "code",
      "source": [
        "def f1(x):\n",
        "    return x*x + 3*x - 10"
      ],
      "metadata": {
        "id": "GQv3MWlxqKf2"
      },
      "execution_count": null,
      "outputs": []
    },
    {
      "cell_type": "code",
      "source": [
        "def f2(x):\n",
        "    return x*x*x"
      ],
      "metadata": {
        "id": "BWSQfVfMqp-g"
      },
      "execution_count": null,
      "outputs": []
    },
    {
      "cell_type": "code",
      "source": [
        "def g(func):\n",
        "    return [func(x) for x in range(-2,3)]"
      ],
      "metadata": {
        "id": "8_18hL3Aqr6M"
      },
      "execution_count": null,
      "outputs": []
    },
    {
      "cell_type": "code",
      "source": [
        "g(f1)"
      ],
      "metadata": {
        "colab": {
          "base_uri": "https://localhost:8080/"
        },
        "id": "JZSVD95OqwBV",
        "outputId": "5f6c1d79-1845-4714-9d58-5ccf7945f66e"
      },
      "execution_count": null,
      "outputs": [
        {
          "output_type": "execute_result",
          "data": {
            "text/plain": [
              "[-12, -12, -10, -6, 0]"
            ]
          },
          "metadata": {},
          "execution_count": 53
        }
      ]
    },
    {
      "cell_type": "code",
      "source": [
        "g(f2)"
      ],
      "metadata": {
        "colab": {
          "base_uri": "https://localhost:8080/"
        },
        "id": "cp1ebmNJq1Wm",
        "outputId": "767c9cd9-7c82-41bd-c474-fbb29090a15c"
      },
      "execution_count": null,
      "outputs": [
        {
          "output_type": "execute_result",
          "data": {
            "text/plain": [
              "[-8, -1, 0, 1, 8]"
            ]
          },
          "metadata": {},
          "execution_count": 54
        }
      ]
    },
    {
      "cell_type": "code",
      "source": [
        "g(lambda x: x*x*x)"
      ],
      "metadata": {
        "colab": {
          "base_uri": "https://localhost:8080/"
        },
        "id": "mL8ohm4wuUZp",
        "outputId": "0f384d18-86fb-4796-b741-fb79f43710e6"
      },
      "execution_count": null,
      "outputs": [
        {
          "output_type": "execute_result",
          "data": {
            "text/plain": [
              "[-8, -1, 0, 1, 8]"
            ]
          },
          "metadata": {},
          "execution_count": 57
        }
      ]
    },
    {
      "cell_type": "markdown",
      "source": [
        "람다함수 : 더하기, 빼기, 곱하기, 나누기\n",
        "\n",
        "위에서 만든 함수들을 리스트에 담아주세요"
      ],
      "metadata": {
        "id": "obbCDRxIuli6"
      }
    },
    {
      "cell_type": "code",
      "source": [
        "func_list=[\n",
        "    lambda x,y : x+y,\n",
        "    lambda x,y : x-y,\n",
        "    lambda x,y : x*y,\n",
        "    lambda x,y : x/y\n",
        "]"
      ],
      "metadata": {
        "id": "FmwxtjDrugGS"
      },
      "execution_count": null,
      "outputs": []
    },
    {
      "cell_type": "code",
      "source": [
        "for i in func_list:\n",
        "    print(i(2,1))"
      ],
      "metadata": {
        "colab": {
          "base_uri": "https://localhost:8080/"
        },
        "id": "MsAwbmzrvPRv",
        "outputId": "51923c72-4a45-4f27-fcc5-60e0d4cad6c7"
      },
      "execution_count": null,
      "outputs": [
        {
          "output_type": "stream",
          "name": "stdout",
          "text": [
            "3\n",
            "1\n",
            "2\n",
            "2.0\n"
          ]
        }
      ]
    },
    {
      "cell_type": "code",
      "source": [
        "plus = lambda x,y:x+y\n",
        "minus = lambda x,y:x-y\n",
        "multiply = lambda x,y:x*y\n",
        "divide = lambda x,y:x/y\n",
        "\n",
        "list_operation=[plus,minus,multiply,divide]"
      ],
      "metadata": {
        "id": "fH4Fi8XivVFV"
      },
      "execution_count": null,
      "outputs": []
    },
    {
      "cell_type": "code",
      "source": [
        "for i in list_operation:\n",
        "    print(i(2,1))"
      ],
      "metadata": {
        "colab": {
          "base_uri": "https://localhost:8080/"
        },
        "id": "pYND6KaCvsqj",
        "outputId": "7bcc65f9-9537-4450-db11-c756ce46edb4"
      },
      "execution_count": null,
      "outputs": [
        {
          "output_type": "stream",
          "name": "stdout",
          "text": [
            "3\n",
            "1\n",
            "2\n",
            "2.0\n"
          ]
        }
      ]
    },
    {
      "cell_type": "code",
      "source": [
        "def increment(n):\n",
        "    return n+1\n",
        "def square(n):\n",
        "    return n**2"
      ],
      "metadata": {
        "id": "j5Jo0izqvu4i"
      },
      "execution_count": null,
      "outputs": []
    },
    {
      "cell_type": "code",
      "source": [
        "for data, action in [(2,increment),(4,square)]:\n",
        "    print(action(data))"
      ],
      "metadata": {
        "colab": {
          "base_uri": "https://localhost:8080/"
        },
        "id": "Q6g72vjYwLsA",
        "outputId": "14f18b7a-ba50-4423-e3be-9688535a0f3c"
      },
      "execution_count": null,
      "outputs": [
        {
          "output_type": "stream",
          "name": "stdout",
          "text": [
            "3\n",
            "16\n"
          ]
        }
      ]
    },
    {
      "cell_type": "markdown",
      "source": [
        "#map\n",
        " - seq 시쿼스 자료형이 지닌 각 원소값들에 대해 function에 적용한 원소를 지닌 map 객체를 반환한다.\n",
        "  - 이후 동일한 자료형으로 다시 변환 필요"
      ],
      "metadata": {
        "id": "HIGX5r1wwt0R"
      }
    },
    {
      "cell_type": "code",
      "source": [
        "def f(x):\n",
        "    return x*x"
      ],
      "metadata": {
        "id": "yDyS4PnkwWTf"
      },
      "execution_count": null,
      "outputs": []
    },
    {
      "cell_type": "code",
      "source": [
        "data = [1,2,3,4]"
      ],
      "metadata": {
        "id": "_BuNP2tFxCq0"
      },
      "execution_count": null,
      "outputs": []
    },
    {
      "cell_type": "code",
      "source": [
        "list_result =[]\n",
        "\n",
        "for i in data:\n",
        "    list_result.append(f(i))"
      ],
      "metadata": {
        "id": "Jo5ZSA4YxFAE"
      },
      "execution_count": null,
      "outputs": []
    },
    {
      "cell_type": "code",
      "source": [
        "list_result"
      ],
      "metadata": {
        "colab": {
          "base_uri": "https://localhost:8080/"
        },
        "id": "Q3DKD4KyxR0T",
        "outputId": "5c8884d9-2aae-4dc2-b78c-2845bae7d5d9"
      },
      "execution_count": null,
      "outputs": [
        {
          "output_type": "execute_result",
          "data": {
            "text/plain": [
              "[1, 4, 9, 16]"
            ]
          },
          "metadata": {},
          "execution_count": 73
        }
      ]
    },
    {
      "cell_type": "code",
      "source": [
        "result_map = map(f, data)"
      ],
      "metadata": {
        "id": "5nfQ2wI5xf9s"
      },
      "execution_count": null,
      "outputs": []
    },
    {
      "cell_type": "code",
      "source": [
        "type(result_map)"
      ],
      "metadata": {
        "colab": {
          "base_uri": "https://localhost:8080/"
        },
        "id": "R7DnvD7Xxkg2",
        "outputId": "39b5bb0a-a490-4b7f-c79c-c7821ffbba66"
      },
      "execution_count": null,
      "outputs": [
        {
          "output_type": "execute_result",
          "data": {
            "text/plain": [
              "map"
            ]
          },
          "metadata": {},
          "execution_count": 81
        }
      ]
    },
    {
      "cell_type": "code",
      "source": [
        "result_map"
      ],
      "metadata": {
        "colab": {
          "base_uri": "https://localhost:8080/"
        },
        "id": "7PMKis-Zxl08",
        "outputId": "3453901b-9b2f-48cf-97cf-453b0488bd81"
      },
      "execution_count": null,
      "outputs": [
        {
          "output_type": "execute_result",
          "data": {
            "text/plain": [
              "<map at 0x7a88db4b04f0>"
            ]
          },
          "metadata": {},
          "execution_count": 82
        }
      ]
    },
    {
      "cell_type": "code",
      "source": [
        "list(result_map) #위처럼 하는 코드보다 map 써서 한줄로 만들어 리스트 얻어내는 게 더 낫다"
      ],
      "metadata": {
        "colab": {
          "base_uri": "https://localhost:8080/"
        },
        "id": "Frz8vO07xvpq",
        "outputId": "a765f328-82f7-4c75-b4c4-2a605474d874"
      },
      "execution_count": null,
      "outputs": [
        {
          "output_type": "execute_result",
          "data": {
            "text/plain": [
              "[]"
            ]
          },
          "metadata": {},
          "execution_count": 84
        }
      ]
    },
    {
      "cell_type": "code",
      "source": [
        "list(map(f,data))"
      ],
      "metadata": {
        "colab": {
          "base_uri": "https://localhost:8080/"
        },
        "id": "JHypQ2inx1IT",
        "outputId": "f88450b9-10b1-4101-8076-47421d5dd836"
      },
      "execution_count": null,
      "outputs": [
        {
          "output_type": "execute_result",
          "data": {
            "text/plain": [
              "[1, 4, 9, 16]"
            ]
          },
          "metadata": {},
          "execution_count": 87
        }
      ]
    },
    {
      "cell_type": "code",
      "source": [
        "list(map(lambda x: x*x, data))"
      ],
      "metadata": {
        "colab": {
          "base_uri": "https://localhost:8080/"
        },
        "id": "JOuR-J1FyCSa",
        "outputId": "bffca330-17d5-4f5a-c80f-2b65b8f146aa"
      },
      "execution_count": null,
      "outputs": [
        {
          "output_type": "execute_result",
          "data": {
            "text/plain": [
              "[1, 4, 9, 16]"
            ]
          },
          "metadata": {},
          "execution_count": 88
        }
      ]
    },
    {
      "cell_type": "code",
      "source": [
        "list(map(lambda x: x*x + 3*x +5, range(10)))"
      ],
      "metadata": {
        "colab": {
          "base_uri": "https://localhost:8080/"
        },
        "id": "Irdw3PTRyL83",
        "outputId": "6fde662b-e833-4f54-cd2d-7fcfd07ea6a2"
      },
      "execution_count": null,
      "outputs": [
        {
          "output_type": "execute_result",
          "data": {
            "text/plain": [
              "[5, 9, 15, 23, 33, 45, 59, 75, 93, 113]"
            ]
          },
          "metadata": {},
          "execution_count": 90
        }
      ]
    },
    {
      "cell_type": "code",
      "source": [
        "['Hello','python','Programming']"
      ],
      "metadata": {
        "colab": {
          "base_uri": "https://localhost:8080/"
        },
        "id": "o5tfQMj1ysBS",
        "outputId": "9d99c7c4-8c44-4592-dc11-73a7a7cef220"
      },
      "execution_count": null,
      "outputs": [
        {
          "output_type": "execute_result",
          "data": {
            "text/plain": [
              "['Hello', 'python', 'Programming']"
            ]
          },
          "metadata": {},
          "execution_count": 91
        }
      ]
    },
    {
      "cell_type": "markdown",
      "source": [
        "위 리스트 원소들의 글자 수 계산하는 코드 짜기(map이랑 lambda랑 len 함수 활용)"
      ],
      "metadata": {
        "id": "ZAH_4s6Jypnz"
      }
    },
    {
      "cell_type": "code",
      "source": [
        "list(map(lambda x: len(x),['Hello','python','Programming']))"
      ],
      "metadata": {
        "colab": {
          "base_uri": "https://localhost:8080/"
        },
        "id": "lz_3JiNxymOv",
        "outputId": "51b3cda4-695f-4866-b3a7-893c83af86d8"
      },
      "execution_count": null,
      "outputs": [
        {
          "output_type": "execute_result",
          "data": {
            "text/plain": [
              "[5, 6, 11]"
            ]
          },
          "metadata": {},
          "execution_count": 94
        }
      ]
    },
    {
      "cell_type": "code",
      "source": [
        "xx = list(range(1,6))\n",
        "yy = list(range(6,11))\n",
        "z = list(map(lambda x,y : x+y, xx,yy))\n",
        "print(z)\n",
        "z = map(lambda x,y : x+y, xx,yy)"
      ],
      "metadata": {
        "colab": {
          "base_uri": "https://localhost:8080/"
        },
        "id": "ykKHpBMPzILV",
        "outputId": "d5bbe1dd-df6a-4848-d2d6-dd5cf1c0eec2"
      },
      "execution_count": null,
      "outputs": [
        {
          "output_type": "stream",
          "name": "stdout",
          "text": [
            "[7, 9, 11, 13, 15]\n"
          ]
        }
      ]
    },
    {
      "cell_type": "code",
      "source": [
        "z"
      ],
      "metadata": {
        "colab": {
          "base_uri": "https://localhost:8080/"
        },
        "id": "utdybUS40xzR",
        "outputId": "fa08e0a2-3b6e-40e6-e3e3-026f54bb27ac"
      },
      "execution_count": null,
      "outputs": [
        {
          "output_type": "execute_result",
          "data": {
            "text/plain": [
              "<map at 0x7a88db4b06a0>"
            ]
          },
          "metadata": {},
          "execution_count": 100
        }
      ]
    },
    {
      "cell_type": "code",
      "source": [
        "next(z)"
      ],
      "metadata": {
        "colab": {
          "base_uri": "https://localhost:8080/"
        },
        "id": "DQ2_QvCv0z_i",
        "outputId": "00a79619-ecf2-46ea-dc5f-4a7574b8abcc"
      },
      "execution_count": null,
      "outputs": [
        {
          "output_type": "execute_result",
          "data": {
            "text/plain": [
              "7"
            ]
          },
          "metadata": {},
          "execution_count": 101
        }
      ]
    },
    {
      "cell_type": "code",
      "source": [
        "next(z)"
      ],
      "metadata": {
        "colab": {
          "base_uri": "https://localhost:8080/"
        },
        "id": "EyL_Yd_10_8z",
        "outputId": "fc35f01b-c475-474a-c175-20fe54bc8f28"
      },
      "execution_count": null,
      "outputs": [
        {
          "output_type": "execute_result",
          "data": {
            "text/plain": [
              "9"
            ]
          },
          "metadata": {},
          "execution_count": 102
        }
      ]
    },
    {
      "cell_type": "code",
      "source": [
        "next(z)"
      ],
      "metadata": {
        "colab": {
          "base_uri": "https://localhost:8080/"
        },
        "id": "syNjT0b91B95",
        "outputId": "d17e0a35-ad98-4c4f-a027-d9c50bcc1dfd"
      },
      "execution_count": null,
      "outputs": [
        {
          "output_type": "execute_result",
          "data": {
            "text/plain": [
              "11"
            ]
          },
          "metadata": {},
          "execution_count": 103
        }
      ]
    },
    {
      "cell_type": "code",
      "source": [
        "next(z)"
      ],
      "metadata": {
        "colab": {
          "base_uri": "https://localhost:8080/"
        },
        "id": "V61OheE81DNj",
        "outputId": "560a0275-ccca-4aad-ce72-dad1b963b762"
      },
      "execution_count": null,
      "outputs": [
        {
          "output_type": "execute_result",
          "data": {
            "text/plain": [
              "13"
            ]
          },
          "metadata": {},
          "execution_count": 104
        }
      ]
    },
    {
      "cell_type": "code",
      "source": [
        "next(z)"
      ],
      "metadata": {
        "colab": {
          "base_uri": "https://localhost:8080/"
        },
        "id": "NO2gEonw1Gex",
        "outputId": "911c7788-54f0-4f17-b3aa-ea0f8c97c9f9"
      },
      "execution_count": null,
      "outputs": [
        {
          "output_type": "execute_result",
          "data": {
            "text/plain": [
              "15"
            ]
          },
          "metadata": {},
          "execution_count": 105
        }
      ]
    },
    {
      "cell_type": "code",
      "source": [
        "next(z)\n",
        "# map은 반복자 #반복할 수 있는 데이터 형태\n",
        "#마지막까지 가면 StopIteration #반복을 멈춤"
      ],
      "metadata": {
        "colab": {
          "base_uri": "https://localhost:8080/",
          "height": 209
        },
        "id": "McMceZxr1HH0",
        "outputId": "81564c0b-dd33-4f92-b161-29e200d705c7"
      },
      "execution_count": null,
      "outputs": [
        {
          "output_type": "error",
          "ename": "StopIteration",
          "evalue": "ignored",
          "traceback": [
            "\u001b[0;31m---------------------------------------------------------------------------\u001b[0m",
            "\u001b[0;31mStopIteration\u001b[0m                             Traceback (most recent call last)",
            "\u001b[0;32m<ipython-input-111-25c3c1f7c61a>\u001b[0m in \u001b[0;36m<cell line: 1>\u001b[0;34m()\u001b[0m\n\u001b[0;32m----> 1\u001b[0;31m \u001b[0mnext\u001b[0m\u001b[0;34m(\u001b[0m\u001b[0mz\u001b[0m\u001b[0;34m)\u001b[0m\u001b[0;34m\u001b[0m\u001b[0;34m\u001b[0m\u001b[0m\n\u001b[0m\u001b[1;32m      2\u001b[0m \u001b[0;31m# map은 반복자 #반복할 수 있는 데이터 형태\u001b[0m\u001b[0;34m\u001b[0m\u001b[0;34m\u001b[0m\u001b[0m\n\u001b[1;32m      3\u001b[0m \u001b[0;31m#마지막까지 가면 StopIteration #반복을 멈춤\u001b[0m\u001b[0;34m\u001b[0m\u001b[0;34m\u001b[0m\u001b[0m\n",
            "\u001b[0;31mStopIteration\u001b[0m: "
          ]
        }
      ]
    },
    {
      "cell_type": "markdown",
      "source": [
        "#filter 내장 함수\n",
        " - 시퀀스 자료형이 지닌 각 원소값들에 대해 function에 적용한 결과가 참인 원소값들만 지닌 filter 객체를 반환한다."
      ],
      "metadata": {
        "id": "47F6rODA1mNx"
      }
    },
    {
      "cell_type": "code",
      "source": [
        "list(filter(lambda x: x>3, [2,3,4,5,6])) #참,거짓 판단하려면 비교 연산자 쓰여야"
      ],
      "metadata": {
        "colab": {
          "base_uri": "https://localhost:8080/"
        },
        "id": "VKJmjo2E1HtR",
        "outputId": "a6d58bfe-e4ce-42bc-994a-e755fafb985a"
      },
      "execution_count": null,
      "outputs": [
        {
          "output_type": "execute_result",
          "data": {
            "text/plain": [
              "[4, 5, 6]"
            ]
          },
          "metadata": {},
          "execution_count": 112
        }
      ]
    },
    {
      "cell_type": "code",
      "source": [
        "type(list(filter(lambda x: x>3, [2,3,4,5,6])))"
      ],
      "metadata": {
        "colab": {
          "base_uri": "https://localhost:8080/"
        },
        "id": "Bf_Yzniq1lGd",
        "outputId": "43b2299c-316a-49a6-fa80-7c7c59ee8644"
      },
      "execution_count": null,
      "outputs": [
        {
          "output_type": "execute_result",
          "data": {
            "text/plain": [
              "list"
            ]
          },
          "metadata": {},
          "execution_count": 113
        }
      ]
    },
    {
      "cell_type": "code",
      "source": [
        "type(filter(lambda x: x>3, [2,3,4,5,6]))"
      ],
      "metadata": {
        "colab": {
          "base_uri": "https://localhost:8080/"
        },
        "id": "oRYLyYPh2HbO",
        "outputId": "cacd69e2-dbce-4132-b76d-318765d481dd"
      },
      "execution_count": null,
      "outputs": [
        {
          "output_type": "execute_result",
          "data": {
            "text/plain": [
              "filter"
            ]
          },
          "metadata": {},
          "execution_count": 114
        }
      ]
    },
    {
      "cell_type": "code",
      "source": [
        "list_3=[]\n",
        "for i in [2,3,4,5,6]:\n",
        "    if i>3:\n",
        "        list_3.append(i)\n",
        "print(list_3)"
      ],
      "metadata": {
        "colab": {
          "base_uri": "https://localhost:8080/"
        },
        "id": "T5NV1nqp2LmX",
        "outputId": "eaa7be4a-df27-4658-fcb2-be780d0c7d8c"
      },
      "execution_count": null,
      "outputs": [
        {
          "output_type": "stream",
          "name": "stdout",
          "text": [
            "[4, 5, 6]\n"
          ]
        }
      ]
    },
    {
      "cell_type": "markdown",
      "source": [
        "0 ~ 10 중\n",
        "\n",
        "1. 홀수만 필터링 하는 코드\n",
        "2. 짝수만 필터링 하는 코드\n",
        "\n",
        "작성해주세요"
      ],
      "metadata": {
        "id": "7bIHbQU-2dm2"
      }
    },
    {
      "cell_type": "code",
      "source": [
        "list(filter(lambda x: x%2==0, [0,1,2,3,4,5,6,7,8,9,10]))"
      ],
      "metadata": {
        "colab": {
          "base_uri": "https://localhost:8080/"
        },
        "id": "h7LsKaxQ2Q2M",
        "outputId": "440b10fd-2c0a-4a29-9947-e61f1df19665"
      },
      "execution_count": null,
      "outputs": [
        {
          "output_type": "execute_result",
          "data": {
            "text/plain": [
              "[0, 2, 4, 6, 8, 10]"
            ]
          },
          "metadata": {},
          "execution_count": 126
        }
      ]
    },
    {
      "cell_type": "code",
      "source": [
        "list(filter(lambda x: x%2==1, [0,1,2,3,4,5,6,7,8,9,10]))"
      ],
      "metadata": {
        "colab": {
          "base_uri": "https://localhost:8080/"
        },
        "id": "Fn4HY_Ym2yON",
        "outputId": "405351ed-4f3b-4e78-f2ed-609f93aa8f43"
      },
      "execution_count": null,
      "outputs": [
        {
          "output_type": "execute_result",
          "data": {
            "text/plain": [
              "[1, 3, 5, 7, 9]"
            ]
          },
          "metadata": {},
          "execution_count": 121
        }
      ]
    },
    {
      "cell_type": "code",
      "source": [
        "list(filter(lambda x: x%2==0, range(0,11)))"
      ],
      "metadata": {
        "colab": {
          "base_uri": "https://localhost:8080/"
        },
        "id": "LyUQU4s426IA",
        "outputId": "cac13294-4f56-40fa-fd4d-e5b53a067b40"
      },
      "execution_count": null,
      "outputs": [
        {
          "output_type": "execute_result",
          "data": {
            "text/plain": [
              "[0, 2, 4, 6, 8, 10]"
            ]
          },
          "metadata": {},
          "execution_count": 127
        }
      ]
    },
    {
      "cell_type": "code",
      "source": [
        "list(filter(lambda x: x%2!=0, range(0,11)))"
      ],
      "metadata": {
        "colab": {
          "base_uri": "https://localhost:8080/"
        },
        "id": "dvU3CQk83U8Z",
        "outputId": "9a1ef203-bd1a-49cf-9b61-8985c1f72451"
      },
      "execution_count": null,
      "outputs": [
        {
          "output_type": "execute_result",
          "data": {
            "text/plain": [
              "[1, 3, 5, 7, 9]"
            ]
          },
          "metadata": {},
          "execution_count": 128
        }
      ]
    },
    {
      "cell_type": "code",
      "source": [
        "list(filter(lambda x: x%2, range(11)))"
      ],
      "metadata": {
        "colab": {
          "base_uri": "https://localhost:8080/"
        },
        "id": "HZsgTyJt3Zwd",
        "outputId": "da7823ff-eb10-4223-ec8b-01589a1a7d8c"
      },
      "execution_count": null,
      "outputs": [
        {
          "output_type": "execute_result",
          "data": {
            "text/plain": [
              "[1, 3, 5, 7, 9]"
            ]
          },
          "metadata": {},
          "execution_count": 129
        }
      ]
    },
    {
      "cell_type": "code",
      "source": [
        "list(filter(lambda x: x%2 - 1, range(11)))"
      ],
      "metadata": {
        "colab": {
          "base_uri": "https://localhost:8080/"
        },
        "id": "ToomgeAT3kA2",
        "outputId": "2b85883c-4b82-42be-ddef-d22d20031ab6"
      },
      "execution_count": null,
      "outputs": [
        {
          "output_type": "execute_result",
          "data": {
            "text/plain": [
              "[0, 2, 4, 6, 8, 10]"
            ]
          },
          "metadata": {},
          "execution_count": 131
        }
      ]
    },
    {
      "cell_type": "code",
      "source": [
        "bool(0)"
      ],
      "metadata": {
        "colab": {
          "base_uri": "https://localhost:8080/"
        },
        "id": "x73j7_UZ3q6Z",
        "outputId": "4c7842c7-23b1-44b6-9286-2b9d02a732c8"
      },
      "execution_count": null,
      "outputs": [
        {
          "output_type": "execute_result",
          "data": {
            "text/plain": [
              "False"
            ]
          },
          "metadata": {},
          "execution_count": 132
        }
      ]
    },
    {
      "cell_type": "code",
      "source": [
        "bool(-1)"
      ],
      "metadata": {
        "colab": {
          "base_uri": "https://localhost:8080/"
        },
        "id": "xXhBZj8I3yMQ",
        "outputId": "869679f2-43b1-4448-cae2-3590f6415044"
      },
      "execution_count": null,
      "outputs": [
        {
          "output_type": "execute_result",
          "data": {
            "text/plain": [
              "True"
            ]
          },
          "metadata": {},
          "execution_count": 133
        }
      ]
    },
    {
      "cell_type": "code",
      "source": [
        "list_ = ['high','level','', None,'builtint','func']"
      ],
      "metadata": {
        "id": "YB3u-unh34Wq"
      },
      "execution_count": null,
      "outputs": []
    },
    {
      "cell_type": "code",
      "source": [
        "list(filter(None,list_)) #None = 아무런 조건식이 없어, 입력값 자체를  진릿값으로 사용한다는 의미로 해석"
      ],
      "metadata": {
        "colab": {
          "base_uri": "https://localhost:8080/"
        },
        "id": "abYhkQgg4DL-",
        "outputId": "615b3d32-b239-471c-f35a-7c6b7f086d2c"
      },
      "execution_count": null,
      "outputs": [
        {
          "output_type": "execute_result",
          "data": {
            "text/plain": [
              "['high', 'level', 'builtint', 'func']"
            ]
          },
          "metadata": {},
          "execution_count": 138
        }
      ]
    },
    {
      "cell_type": "code",
      "source": [
        "fnames = ['a_thumb.jpg','b01_thumb.jpg','S100_thumb.jpg','s100.jpg','b01.jpg']"
      ],
      "metadata": {
        "id": "UlL67sQb4JTH"
      },
      "execution_count": null,
      "outputs": []
    },
    {
      "cell_type": "code",
      "source": [
        "list(filter(lambda s: '_thumb' in s,fnames))"
      ],
      "metadata": {
        "colab": {
          "base_uri": "https://localhost:8080/"
        },
        "id": "JDJtxva34t4I",
        "outputId": "6a34cf81-1391-4451-fa1b-694aaa59c30d"
      },
      "execution_count": null,
      "outputs": [
        {
          "output_type": "execute_result",
          "data": {
            "text/plain": [
              "['a_thumb.jpg', 'b01_thumb.jpg', 'S100_thumb.jpg']"
            ]
          },
          "metadata": {},
          "execution_count": 146
        }
      ]
    },
    {
      "cell_type": "code",
      "source": [
        "list(filter(lambda s: '_thumb' not in s,fnames))"
      ],
      "metadata": {
        "colab": {
          "base_uri": "https://localhost:8080/"
        },
        "id": "jgvOr2b1405r",
        "outputId": "9a24b1a5-78ff-49c3-bf60-b14aed1709da"
      },
      "execution_count": null,
      "outputs": [
        {
          "output_type": "execute_result",
          "data": {
            "text/plain": [
              "['s100.jpg', 'b01.jpg']"
            ]
          },
          "metadata": {},
          "execution_count": 147
        }
      ]
    },
    {
      "cell_type": "code",
      "source": [
        "L = [3,2,[3,[[3],4]]]"
      ],
      "metadata": {
        "id": "hUgiYBso8EPs"
      },
      "execution_count": null,
      "outputs": []
    },
    {
      "cell_type": "markdown",
      "source": [
        "# 함수 연습\n",
        "\n",
        "L = [3,2,[3,[[3],4]]]\n",
        "\n",
        "change_values(L, 3, 5)\n",
        "\n",
        "[5,2,[5,[5],4]]]"
      ],
      "metadata": {
        "id": "cKne5N-f8_Id"
      }
    },
    {
      "cell_type": "code",
      "source": [
        "#챗지피티 ver.\n",
        "def change_values(lst, target, replacement):\n",
        "    if isinstance(lst, list):\n",
        "        new_list = []\n",
        "        for item in lst:\n",
        "            new_list.append(change_values(item, target, replacement))\n",
        "        return new_list\n",
        "    else:\n",
        "        return replacement if lst == target else lst\n",
        "\n",
        "L = [3, 2, [3, [[3], 4]]]\n",
        "result = change_values(L, 3, 5)\n",
        "print(result)"
      ],
      "metadata": {
        "colab": {
          "base_uri": "https://localhost:8080/"
        },
        "id": "4JJ88mp6BEtT",
        "outputId": "28ff562f-5c7f-45d0-8f11-11e714d42c62"
      },
      "execution_count": null,
      "outputs": [
        {
          "output_type": "stream",
          "name": "stdout",
          "text": [
            "[5, 2, [3, [[3], 4]]]\n"
          ]
        }
      ]
    },
    {
      "cell_type": "code",
      "source": [
        "#강사님 ver.\n",
        "def change_values(L,from_s,to_s):\n",
        "    for k, ele in enumerate(L):\n",
        "        if ele == from_s:\n",
        "            L[k]=to_s\n",
        "        elif type(ele)==list: #list면 위 식 더 돌려라\n",
        "            change_values(ele,from_s,to_s)\n",
        "    return L"
      ],
      "metadata": {
        "id": "AOSeOIiIBJL2"
      },
      "execution_count": null,
      "outputs": []
    },
    {
      "cell_type": "code",
      "source": [
        "change_values(L,3,5)"
      ],
      "metadata": {
        "colab": {
          "base_uri": "https://localhost:8080/"
        },
        "id": "SonTFTlsEevi",
        "outputId": "982aa26f-5772-429b-de99-86461ee9937c"
      },
      "execution_count": null,
      "outputs": [
        {
          "output_type": "execute_result",
          "data": {
            "text/plain": [
              "[5, 2, [5, [[5], 4]]]"
            ]
          },
          "metadata": {},
          "execution_count": 170
        }
      ]
    },
    {
      "cell_type": "code",
      "source": [
        "def change_values(L,from_s,to_s):\n",
        "    for k, ele in enumerate(L):\n",
        "        print(k,ele)\n",
        "        if ele == from_s:\n",
        "            L[k]=to_s\n",
        "    return L"
      ],
      "metadata": {
        "id": "46cFBtsVEiId"
      },
      "execution_count": null,
      "outputs": []
    },
    {
      "cell_type": "code",
      "source": [
        "L = [3, 2, [3, [[3], 4]]]\n",
        "change_values(L,3,5)"
      ],
      "metadata": {
        "colab": {
          "base_uri": "https://localhost:8080/"
        },
        "id": "aO2yHbjdF2mC",
        "outputId": "0b19e918-1969-47d2-e352-9d1e667810a2"
      },
      "execution_count": null,
      "outputs": [
        {
          "output_type": "stream",
          "name": "stdout",
          "text": [
            "0 3\n",
            "1 2\n",
            "2 [3, [[3], 4]]\n"
          ]
        },
        {
          "output_type": "execute_result",
          "data": {
            "text/plain": [
              "[5, 2, [3, [[3], 4]]]"
            ]
          },
          "metadata": {},
          "execution_count": 181
        }
      ]
    },
    {
      "cell_type": "code",
      "source": [
        "frange(1,3,0.2) # [1.0, 1.2, 1.4 ... 2.8]"
      ],
      "metadata": {
        "id": "puRcfd2KF4lO"
      },
      "execution_count": null,
      "outputs": []
    },
    {
      "cell_type": "code",
      "source": [
        "frange(3,1,-0.2) # [3.0, 2.8, 2.6 ... 1.2]"
      ],
      "metadata": {
        "id": "JUy3s0kxlBL7"
      },
      "execution_count": null,
      "outputs": []
    },
    {
      "cell_type": "code",
      "source": [
        "frange(1,3) # [1.0, 2.0]"
      ],
      "metadata": {
        "id": "OAJ1_4tXlM7x"
      },
      "execution_count": null,
      "outputs": []
    },
    {
      "cell_type": "code",
      "source": [
        "frange(4) # [0.0, 1.0, 2.0, 3.0]"
      ],
      "metadata": {
        "id": "wcm_Q7sOlPf-"
      },
      "execution_count": null,
      "outputs": []
    },
    {
      "cell_type": "code",
      "source": [
        "def frange(arg1, *args):\n",
        "    if len(args) == 0:\n",
        "        start, stop, step = 0.0, float(arg1),1.0\n",
        "    if len(args) == 1:\n",
        "        start, stop, step = float(arg1), float(args[0]),1.0\n",
        "    if len(args) == 2:\n",
        "        start, stop, step = float(arg1), float(args[0]),float(args[1])\n",
        "\n",
        "    L = []\n",
        "    v = start\n",
        "    if step>0:\n",
        "        while v < stop:\n",
        "            L.append(v)\n",
        "            v += step\n",
        "    elif step<0:\n",
        "        while v > stop:\n",
        "            L.append(v)\n",
        "            v += step\n",
        "    return L"
      ],
      "metadata": {
        "id": "IIHmO8tklWEg"
      },
      "execution_count": null,
      "outputs": []
    },
    {
      "cell_type": "code",
      "source": [
        "print(frange(1,3,0.2))\n",
        "print(frange(3,1,-0.2))\n",
        "print(frange(1,3))\n",
        "print(frange(4))\n"
      ],
      "metadata": {
        "colab": {
          "base_uri": "https://localhost:8080/"
        },
        "id": "n9ODKcO6mEuc",
        "outputId": "9b336022-1859-4130-97b5-d42cf9f817ec"
      },
      "execution_count": null,
      "outputs": [
        {
          "output_type": "stream",
          "name": "stdout",
          "text": [
            "[1.0, 1.2, 1.4, 1.5999999999999999, 1.7999999999999998, 1.9999999999999998, 2.1999999999999997, 2.4, 2.6, 2.8000000000000003]\n",
            "[3.0, 2.8, 2.5999999999999996, 2.3999999999999995, 2.1999999999999993, 1.9999999999999993, 1.7999999999999994, 1.5999999999999994, 1.3999999999999995, 1.1999999999999995]\n",
            "[1.0, 2.0]\n",
            "[0.0, 1.0, 2.0, 3.0]\n"
          ]
        }
      ]
    },
    {
      "cell_type": "code",
      "source": [],
      "metadata": {
        "id": "gfjbx0kHmGar"
      },
      "execution_count": null,
      "outputs": []
    },
    {
      "cell_type": "code",
      "source": [
        "def frange(arg1, *args):\n",
        "    if len(args) == 0:\n",
        "        start, stop, step = 0.0, float(arg1),1.0\n",
        "    if len(args) == 1:\n",
        "        start, stop, step = float(arg1), float(args[0]),1.0\n",
        "    if len(args) == 2:\n",
        "        start, stop, step = float(arg1), float(args[0]),float(args[1])\n",
        "\n",
        "    L = []\n",
        "    v = start\n",
        "    while 1:\n",
        "        L.append(round(v,1))\n",
        "        v += step\n",
        "        if start<stop:\n",
        "            if (v >= stop): break\n",
        "        else:\n",
        "            if (v <= stop): break\n",
        "    return L"
      ],
      "metadata": {
        "id": "Cz47xfvfmM-k"
      },
      "execution_count": null,
      "outputs": []
    },
    {
      "cell_type": "code",
      "source": [
        "print(frange(1,3,0.2))\n",
        "print(frange(3,1,-0.2))\n",
        "print(frange(1,3))\n",
        "print(frange(4))\n"
      ],
      "metadata": {
        "colab": {
          "base_uri": "https://localhost:8080/"
        },
        "id": "1NzniD3lDUAJ",
        "outputId": "80c9b8f7-9593-461d-8810-1429bc11cf5f"
      },
      "execution_count": null,
      "outputs": [
        {
          "output_type": "stream",
          "name": "stdout",
          "text": [
            "[1.0, 1.2, 1.4, 1.6, 1.8, 2.0, 2.2, 2.4, 2.6, 2.8]\n",
            "[3.0, 2.8, 2.6, 2.4, 2.2, 2.0, 1.8, 1.6, 1.4, 1.2]\n",
            "[1.0, 2.0]\n",
            "[0.0, 1.0, 2.0, 3.0]\n"
          ]
        }
      ]
    },
    {
      "cell_type": "markdown",
      "source": [
        "#모듈의 활용\n",
        "\n",
        "##1. 모듈의 다양한 import 방법"
      ],
      "metadata": {
        "id": "t9QD9TiYEs3R"
      }
    },
    {
      "cell_type": "markdown",
      "source": [
        "###1-1 모듈 import하기\n",
        " 1) import 모듈명\n",
        " - 가장 기본적인 형태\n",
        " 현재의 이름 공간에 mymath 이름이 유지되므로 mymath.area() 형태로 자격 이름 사용"
      ],
      "metadata": {
        "id": "j9Gh5ZG3UlsK"
      }
    },
    {
      "cell_type": "code",
      "source": [
        "%%writefile mymath.py\n",
        "mypi = 3.14\n",
        "\n",
        "def add(a,b):\n",
        "    return a+b\n",
        "\n",
        "def area(r):\n",
        "    return mypi*r*r"
      ],
      "metadata": {
        "colab": {
          "base_uri": "https://localhost:8080/"
        },
        "id": "Y9YZRs5_Edaw",
        "outputId": "718210cb-9a4d-47ef-e2b0-7db050ab20ba"
      },
      "execution_count": null,
      "outputs": [
        {
          "output_type": "stream",
          "name": "stdout",
          "text": [
            "Overwriting mymath.py\n"
          ]
        }
      ]
    },
    {
      "cell_type": "code",
      "source": [
        "ls"
      ],
      "metadata": {
        "colab": {
          "base_uri": "https://localhost:8080/"
        },
        "id": "XQf2EaZ8FEGa",
        "outputId": "518b4bc5-3fb0-48be-f828-28dcf193a08b"
      },
      "execution_count": null,
      "outputs": [
        {
          "output_type": "stream",
          "name": "stdout",
          "text": [
            "mymath.py  \u001b[0m\u001b[01;34msample_data\u001b[0m/\n"
          ]
        }
      ]
    },
    {
      "cell_type": "code",
      "source": [
        "import mymath"
      ],
      "metadata": {
        "id": "Mqf-Ez8yFErJ"
      },
      "execution_count": null,
      "outputs": []
    },
    {
      "cell_type": "code",
      "source": [
        "dir()"
      ],
      "metadata": {
        "id": "ggK-yimNFHo6"
      },
      "execution_count": null,
      "outputs": []
    },
    {
      "cell_type": "code",
      "source": [
        "mymath.area(5)"
      ],
      "metadata": {
        "colab": {
          "base_uri": "https://localhost:8080/"
        },
        "id": "YdfkeJe4FNOH",
        "outputId": "757684df-1f1f-49bc-8b65-f81d7935bf36"
      },
      "execution_count": null,
      "outputs": [
        {
          "output_type": "execute_result",
          "data": {
            "text/plain": [
              "78.5"
            ]
          },
          "metadata": {},
          "execution_count": 226
        }
      ]
    },
    {
      "cell_type": "markdown",
      "source": [
        " 2) from 모듈명 import 이름들\n",
        "  - 해당 모듈에 존재하는 지정 이름들을 현재 이름 공간으로 불러들인다.\n",
        "\n",
        "  - 불러들인 각 이름들은 모듈 이름 없이 직접 사용 가능하다.\n",
        "\n",
        "  - import 하는 이름들이기존에 미리 존재하고 있었다면 그 이름들에 의해 참조되던 기존 객체들은 상실된다."
      ],
      "metadata": {
        "id": "Nxnx6LvSFnWK"
      }
    },
    {
      "cell_type": "code",
      "source": [
        "from mymath import area, mypi\n",
        "print(area(5))"
      ],
      "metadata": {
        "colab": {
          "base_uri": "https://localhost:8080/"
        },
        "id": "VYRTAcqJGB-t",
        "outputId": "107ecf34-9749-45bf-b1e5-91681eca8b86"
      },
      "execution_count": null,
      "outputs": [
        {
          "output_type": "stream",
          "name": "stdout",
          "text": [
            "78.5\n"
          ]
        }
      ]
    },
    {
      "cell_type": "code",
      "source": [
        "mypi"
      ],
      "metadata": {
        "colab": {
          "base_uri": "https://localhost:8080/"
        },
        "id": "CyH9DNoAGF9p",
        "outputId": "c80711bf-e650-4504-ab9b-285c173c582c"
      },
      "execution_count": null,
      "outputs": [
        {
          "output_type": "execute_result",
          "data": {
            "text/plain": [
              "3.14"
            ]
          },
          "metadata": {},
          "execution_count": 230
        }
      ]
    },
    {
      "cell_type": "code",
      "source": [
        "cat mymath.py"
      ],
      "metadata": {
        "colab": {
          "base_uri": "https://localhost:8080/"
        },
        "id": "l1Mz_gffFd4i",
        "outputId": "6ebdd215-18ac-4db7-ba6f-f4072b393b2e"
      },
      "execution_count": null,
      "outputs": [
        {
          "output_type": "stream",
          "name": "stdout",
          "text": [
            "mypi = 3.14\n",
            "\n",
            "def add(a,b):\n",
            "    return a+b\n",
            "\n",
            "def area(r):\n",
            "    return mypi*r*r\n"
          ]
        }
      ]
    },
    {
      "cell_type": "markdown",
      "source": [
        "3) from 모듈명 imort *"
      ],
      "metadata": {
        "id": "7qxgKE-RGh8a"
      }
    },
    {
      "cell_type": "code",
      "source": [
        "from mymath import * #몽땅 다 import 하고 싶을 때 #전부 다 불러오겠다"
      ],
      "metadata": {
        "id": "SMh3nTu6F6VT"
      },
      "execution_count": null,
      "outputs": []
    },
    {
      "cell_type": "code",
      "source": [
        "mypi"
      ],
      "metadata": {
        "colab": {
          "base_uri": "https://localhost:8080/"
        },
        "id": "ueOe_t-7GNon",
        "outputId": "ed59bb96-b34d-4f1a-be9b-24b27a758346"
      },
      "execution_count": null,
      "outputs": [
        {
          "output_type": "execute_result",
          "data": {
            "text/plain": [
              "3.14"
            ]
          },
          "metadata": {},
          "execution_count": 232
        }
      ]
    },
    {
      "cell_type": "markdown",
      "source": [
        "4) import 모듈명 as 새로운 모듈 이름\n",
        " - 해당 모듈을 새로운 다른 이름으로 사용하고자 할 때\n",
        "\n",
        " - 기존 모듈 이름이 너무 길거나 현재 사용 중인 다른 이름들과 충돌 일어날 때 유용"
      ],
      "metadata": {
        "id": "R9K1nknzGuq3"
      }
    },
    {
      "cell_type": "code",
      "source": [
        "import string as str"
      ],
      "metadata": {
        "id": "fCpZRZQpGOEh"
      },
      "execution_count": null,
      "outputs": []
    },
    {
      "cell_type": "code",
      "source": [
        "str"
      ],
      "metadata": {
        "colab": {
          "base_uri": "https://localhost:8080/"
        },
        "id": "X67xwmBWG5q3",
        "outputId": "7886ed14-5988-496d-9fbf-8b1dd894ba88"
      },
      "execution_count": null,
      "outputs": [
        {
          "output_type": "execute_result",
          "data": {
            "text/plain": [
              "<module 'string' from '/usr/lib/python3.10/string.py'>"
            ]
          },
          "metadata": {},
          "execution_count": 234
        }
      ]
    },
    {
      "cell_type": "markdown",
      "source": [
        "모듈 이름 == py 파일의 파일 이름"
      ],
      "metadata": {
        "id": "Uvi5VyB6G72V"
      }
    },
    {
      "cell_type": "code",
      "source": [
        "str.punctuation"
      ],
      "metadata": {
        "colab": {
          "base_uri": "https://localhost:8080/",
          "height": 35
        },
        "id": "H4pjEWEjG6g1",
        "outputId": "78555c05-fca3-4ab4-9bf8-17bc904d057b"
      },
      "execution_count": null,
      "outputs": [
        {
          "output_type": "execute_result",
          "data": {
            "text/plain": [
              "'!\"#$%&\\'()*+,-./:;<=>?@[\\\\]^_`{|}~'"
            ],
            "application/vnd.google.colaboratory.intrinsic+json": {
              "type": "string"
            }
          },
          "metadata": {},
          "execution_count": 235
        }
      ]
    },
    {
      "cell_type": "markdown",
      "source": [
        "5) from 모듈명 import 이름 as 새로운 이름[, 이름 as 새로운 이름]\n",
        " - 해당 모듈 내에 정의된 이름을 다른 새로운 이름으로 사용하고자 할 때 사용"
      ],
      "metadata": {
        "id": "K32BVK1CHG91"
      }
    },
    {
      "cell_type": "code",
      "source": [
        "from string import punctuation as punc\n",
        "print(punc)"
      ],
      "metadata": {
        "colab": {
          "base_uri": "https://localhost:8080/"
        },
        "id": "D6nFKlJ_HBlV",
        "outputId": "522decf0-8fc8-4c4c-814f-126f8edc95a2"
      },
      "execution_count": null,
      "outputs": [
        {
          "output_type": "stream",
          "name": "stdout",
          "text": [
            "!\"#$%&'()*+,-./:;<=>?@[\\]^_`{|}~\n"
          ]
        }
      ]
    },
    {
      "cell_type": "code",
      "source": [
        "from math import floor as flr, ceil as cl"
      ],
      "metadata": {
        "id": "Od064ElyHQ7U"
      },
      "execution_count": null,
      "outputs": []
    },
    {
      "cell_type": "code",
      "source": [
        "flr(4.5)"
      ],
      "metadata": {
        "colab": {
          "base_uri": "https://localhost:8080/"
        },
        "id": "uQ10JZ97HnTn",
        "outputId": "6d3a8974-8b17-43e7-8c0d-fffb8f6375cd"
      },
      "execution_count": null,
      "outputs": [
        {
          "output_type": "execute_result",
          "data": {
            "text/plain": [
              "4"
            ]
          },
          "metadata": {},
          "execution_count": 239
        }
      ]
    },
    {
      "cell_type": "code",
      "source": [
        "cl(4.5)"
      ],
      "metadata": {
        "colab": {
          "base_uri": "https://localhost:8080/"
        },
        "id": "KdrC9Kq-HnzC",
        "outputId": "7a7809a7-74c7-4844-f55c-083f9fae8b4c"
      },
      "execution_count": null,
      "outputs": [
        {
          "output_type": "execute_result",
          "data": {
            "text/plain": [
              "5"
            ]
          },
          "metadata": {},
          "execution_count": 241
        }
      ]
    },
    {
      "cell_type": "code",
      "source": [
        "def str_test():\n",
        "    import string\n",
        "    print(string.punctuation)"
      ],
      "metadata": {
        "id": "OQZlzDPsHpEP"
      },
      "execution_count": null,
      "outputs": []
    },
    {
      "cell_type": "code",
      "source": [
        "str_test()"
      ],
      "metadata": {
        "colab": {
          "base_uri": "https://localhost:8080/"
        },
        "id": "0K53fbtDIVFA",
        "outputId": "b5904f64-3591-4e85-d916-8dc24f218e63"
      },
      "execution_count": null,
      "outputs": [
        {
          "output_type": "stream",
          "name": "stdout",
          "text": [
            "!\"#$%&'()*+,-./:;<=>?@[\\]^_`{|}~\n"
          ]
        }
      ]
    },
    {
      "cell_type": "markdown",
      "source": [
        "###import에 의한 모듈 코드 수행"
      ],
      "metadata": {
        "id": "cPLLScrJJAZ6"
      }
    },
    {
      "cell_type": "code",
      "source": [
        "%%writefile mymath.py\n",
        "mypi = 3.14\n",
        "\n",
        "def add(a,b):\n",
        "    return a+b\n",
        "\n",
        "def area(r):\n",
        "    return mypi*r*r\n",
        "\n",
        "if __name__ == \"__main__\":\n",
        "    print(area(4.0))"
      ],
      "metadata": {
        "colab": {
          "base_uri": "https://localhost:8080/"
        },
        "id": "IdNML1l3IhGC",
        "outputId": "4deaa82e-e9b0-4adf-cd97-222d9157d2e8"
      },
      "execution_count": null,
      "outputs": [
        {
          "output_type": "stream",
          "name": "stdout",
          "text": [
            "Overwriting mymath.py\n"
          ]
        }
      ]
    },
    {
      "cell_type": "markdown",
      "source": [
        "__name__ : 변수\n",
        "\n",
        "__main__ : 값. 리터럴\n",
        "\n",
        "name의 변수가 main과 같을 때는:\n",
        "\n",
        "아래를 실행하라"
      ],
      "metadata": {
        "id": "3z_UUXDvOxnk"
      }
    },
    {
      "cell_type": "code",
      "source": [
        "cat mymath.py"
      ],
      "metadata": {
        "colab": {
          "base_uri": "https://localhost:8080/"
        },
        "id": "VZqZMSniI9-5",
        "outputId": "9c210334-a65c-4eaa-c76c-e3ad0150883b"
      },
      "execution_count": null,
      "outputs": [
        {
          "output_type": "stream",
          "name": "stdout",
          "text": [
            "mypi = 3.14\n",
            "\n",
            "def add(a,b):\n",
            "    return a+b\n",
            "\n",
            "def area(r):\n",
            "    return mypi*r*r\n",
            "\n",
            "if __name__ == \"__name__\":\n",
            "    print(area(4.0))\n"
          ]
        }
      ]
    },
    {
      "cell_type": "code",
      "source": [
        "import mymath #import는 거기 안에 있는 함수를 쓰겠다\n",
        "# if __name__ 그거 썼더니 결과값 50.24 안나옴"
      ],
      "metadata": {
        "id": "B5_dkzj1JLJ7"
      },
      "execution_count": null,
      "outputs": []
    },
    {
      "cell_type": "code",
      "source": [
        "ls"
      ],
      "metadata": {
        "colab": {
          "base_uri": "https://localhost:8080/"
        },
        "id": "3oyXlL97JMyY",
        "outputId": "f96bb222-2766-49c0-c593-60b3a61083bc"
      },
      "execution_count": null,
      "outputs": [
        {
          "output_type": "stream",
          "name": "stdout",
          "text": [
            "\u001b[0m\u001b[01;34msample_data\u001b[0m/\n"
          ]
        }
      ]
    },
    {
      "cell_type": "code",
      "source": [
        "%run mymath.py"
      ],
      "metadata": {
        "colab": {
          "base_uri": "https://localhost:8080/"
        },
        "id": "qfhDAAI1Jb88",
        "outputId": "4256a599-6f33-464c-e65a-0819659c3975"
      },
      "execution_count": null,
      "outputs": [
        {
          "output_type": "stream",
          "name": "stdout",
          "text": [
            "50.24\n"
          ]
        }
      ]
    },
    {
      "cell_type": "code",
      "source": [
        "%%shell\n",
        "python mymath.py # %이거 두개는 환경 넘어가겠다...? 라는 뜻"
      ],
      "metadata": {
        "colab": {
          "base_uri": "https://localhost:8080/"
        },
        "id": "CVPPpOOqKRVB",
        "outputId": "745da34e-4f0b-43ee-ecdb-01b4e7f56dc7"
      },
      "execution_count": null,
      "outputs": [
        {
          "output_type": "stream",
          "name": "stdout",
          "text": [
            "50.24\n"
          ]
        },
        {
          "output_type": "execute_result",
          "data": {
            "text/plain": []
          },
          "metadata": {},
          "execution_count": 7
        }
      ]
    },
    {
      "cell_type": "code",
      "source": [],
      "metadata": {
        "id": "vud4v4vWLWF8"
      },
      "execution_count": null,
      "outputs": []
    },
    {
      "cell_type": "code",
      "source": [
        "%%writefile modu.py\n",
        "def add(a,b):\n",
        "    return a+b\n",
        "def f():\n",
        "    print(\"Python is becomeing popular.\")\n",
        "\n",
        "if __name__ == \"__main__\":\n",
        "    print(add(1,10))\n",
        "    f()"
      ],
      "metadata": {
        "colab": {
          "base_uri": "https://localhost:8080/"
        },
        "id": "By87y6sRKZNr",
        "outputId": "7c7dfc00-82fd-4f74-fe4c-1c65f1005afd"
      },
      "execution_count": null,
      "outputs": [
        {
          "output_type": "stream",
          "name": "stdout",
          "text": [
            "Overwriting modu.py\n"
          ]
        }
      ]
    },
    {
      "cell_type": "code",
      "source": [
        "%run modu.py\n",
        " #__main__은 변수가 아니라 리터럴! 값 그 자체!\n",
        " #할당 과 달리"
      ],
      "metadata": {
        "colab": {
          "base_uri": "https://localhost:8080/"
        },
        "id": "wxoU1OCHLuEd",
        "outputId": "6b049d97-9191-4a70-b69d-8c2ba477d414"
      },
      "execution_count": null,
      "outputs": [
        {
          "output_type": "stream",
          "name": "stdout",
          "text": [
            "11\n",
            "Python is becomeing popular.\n"
          ]
        }
      ]
    },
    {
      "cell_type": "markdown",
      "source": [
        "직접 파일을 실행한 것. 이때는 넣어주게 되어있음"
      ],
      "metadata": {
        "id": "WktID_c0PQLY"
      }
    },
    {
      "cell_type": "code",
      "source": [
        "import modu\n",
        "#import 때는 __name__ 이라는 변수 자체에 할당"
      ],
      "metadata": {
        "id": "8EyciEgAL16B"
      },
      "execution_count": null,
      "outputs": []
    },
    {
      "cell_type": "markdown",
      "source": [
        "라이브러리 import하면 main이라는 이름 대신 name이 들어감"
      ],
      "metadata": {
        "id": "SZKNQYwaPTPf"
      }
    },
    {
      "cell_type": "markdown",
      "source": [
        "###1-3 컴파일과 적재시간"
      ],
      "metadata": {
        "id": "ylNVSgGqRC0w"
      }
    },
    {
      "cell_type": "markdown",
      "source": [
        " - import mymath를 수행 시 발생하는 일\n",
        "    - 1) 우선 mymath.pyc를 찾는다.\n",
        "    - 2) mymath.pyc가 없다면 mymath.pyc를 찾아 mypath.pyc를 생성한다\n",
        "    - 3) 생성된 mymath.pyc를 메모리로 읽어들여 수행한다.\n",
        "\n",
        " - .pyc 파일\n",
        "    - 바이트 코드 파일\n",
        "     - 기계나 플랫폼(OS)에 의존하지 않도록 만들어진 일종의 목적 코드(Obect Code)\n",
        "     - 파이썬은 컴파일 인어이면서 동시에 인터프리터 언어의 수행 방식을 취하고 있다.\n",
        "\n",
        "    - 새로운 .pyc 생성에 대한 판단\n",
        "     -.py 수정 시간이 .pyc 수정 시간보다 더 최근일 때\n",
        "    - .py가 없어도 .pyc 파일만 있어도 import 가능\n",
        "     - 코드를 숨기는 간단한 기법으로 활용 가능"
      ],
      "metadata": {
        "id": "fwL00zBGU1IK"
      }
    },
    {
      "cell_type": "code",
      "source": [],
      "metadata": {
        "id": "RYSNpXEGUyIV"
      },
      "execution_count": null,
      "outputs": []
    }
  ]
}